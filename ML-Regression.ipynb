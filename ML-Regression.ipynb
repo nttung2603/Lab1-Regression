{
 "cells": [
  {
   "cell_type": "markdown",
   "metadata": {
    "id": "xEYVhrByEwTs"
   },
   "source": [
    "# I. Import"
   ]
  },
  {
   "cell_type": "code",
   "execution_count": 1,
   "metadata": {
    "colab": {
     "base_uri": "https://localhost:8080/"
    },
    "id": "ikhPWn0bzMXo",
    "outputId": "4312f3cb-bfab-481f-9ccd-c47a17920102"
   },
   "outputs": [
    {
     "name": "stderr",
     "output_type": "stream",
     "text": [
      "/usr/local/lib/python3.7/dist-packages/statsmodels/tools/_testing.py:19: FutureWarning: pandas.util.testing is deprecated. Use the functions in the public API at pandas.testing instead.\n",
      "  import pandas.util.testing as tm\n"
     ]
    }
   ],
   "source": [
    "import pandas as pd\n",
    "import seaborn as sns\n",
    "import matplotlib.pyplot as plt\n",
    "import numpy as np\n",
    "from sklearn.compose import ColumnTransformer\n",
    "from sklearn.pipeline import Pipeline\n",
    "from sklearn.preprocessing import OneHotEncoder, StandardScaler\n",
    "from sklearn.linear_model import LinearRegression\n",
    "from sklearn.neural_network import MLPRegressor\n",
    "from sklearn.model_selection import GridSearchCV\n",
    "from sklearn.ensemble import RandomForestRegressor\n",
    "import statsmodels.api as sm\n",
    "import warnings\n",
    "warnings.filterwarnings(\"ignore\")"
   ]
  },
  {
   "cell_type": "code",
   "execution_count": 2,
   "metadata": {
    "colab": {
     "base_uri": "https://localhost:8080/"
    },
    "id": "TTsx3_J_FLnS",
    "outputId": "da0eddcc-5d24-4007-c0db-27b2ab26a416"
   },
   "outputs": [
    {
     "name": "stdout",
     "output_type": "stream",
     "text": [
      "Drive already mounted at /content/drive; to attempt to forcibly remount, call drive.mount(\"/content/drive\", force_remount=True).\n"
     ]
    }
   ],
   "source": [
    "from google.colab import drive\n",
    "drive.mount('/content/drive')"
   ]
  },
  {
   "cell_type": "markdown",
   "metadata": {
    "id": "VSESP7yezMX1"
   },
   "source": [
    "# II. Khám phá dữ liệu"
   ]
  },
  {
   "cell_type": "code",
   "execution_count": 3,
   "metadata": {
    "id": "chDRPvkLzMX1"
   },
   "outputs": [],
   "source": [
    "df_train = pd.read_csv(\"/content/drive/MyDrive/Data/train.csv\")\n",
    "df_test = pd.read_csv(\"/content/drive/MyDrive/Data/test.csv\")"
   ]
  },
  {
   "cell_type": "markdown",
   "metadata": {
    "id": "KiVJ3Z87EwU-"
   },
   "source": [
    "Tổng hợp 2 file dữ liệu `train.csv` và `test.csv`"
   ]
  },
  {
   "cell_type": "code",
   "execution_count": 4,
   "metadata": {
    "id": "nDIlNuB5EwU_"
   },
   "outputs": [],
   "source": [
    "df=pd.concat([df_train,df_test])"
   ]
  },
  {
   "cell_type": "code",
   "execution_count": 5,
   "metadata": {
    "colab": {
     "base_uri": "https://localhost:8080/",
     "height": 195
    },
    "id": "TwTbt5HFzMX2",
    "outputId": "740b5aa0-9975-4965-b02d-82fb44fb30bc",
    "scrolled": true
   },
   "outputs": [
    {
     "data": {
      "text/html": [
       "<div>\n",
       "<style scoped>\n",
       "    .dataframe tbody tr th:only-of-type {\n",
       "        vertical-align: middle;\n",
       "    }\n",
       "\n",
       "    .dataframe tbody tr th {\n",
       "        vertical-align: top;\n",
       "    }\n",
       "\n",
       "    .dataframe thead th {\n",
       "        text-align: right;\n",
       "    }\n",
       "</style>\n",
       "<table border=\"1\" class=\"dataframe\">\n",
       "  <thead>\n",
       "    <tr style=\"text-align: right;\">\n",
       "      <th></th>\n",
       "      <th>age</th>\n",
       "      <th>sex</th>\n",
       "      <th>bmi</th>\n",
       "      <th>children</th>\n",
       "      <th>smoker</th>\n",
       "      <th>region</th>\n",
       "      <th>charges</th>\n",
       "    </tr>\n",
       "  </thead>\n",
       "  <tbody>\n",
       "    <tr>\n",
       "      <th>0</th>\n",
       "      <td>24</td>\n",
       "      <td>male</td>\n",
       "      <td>23.655</td>\n",
       "      <td>0</td>\n",
       "      <td>no</td>\n",
       "      <td>northwest</td>\n",
       "      <td>2352.96845</td>\n",
       "    </tr>\n",
       "    <tr>\n",
       "      <th>1</th>\n",
       "      <td>28</td>\n",
       "      <td>female</td>\n",
       "      <td>26.510</td>\n",
       "      <td>2</td>\n",
       "      <td>no</td>\n",
       "      <td>southeast</td>\n",
       "      <td>4340.44090</td>\n",
       "    </tr>\n",
       "    <tr>\n",
       "      <th>2</th>\n",
       "      <td>51</td>\n",
       "      <td>male</td>\n",
       "      <td>39.700</td>\n",
       "      <td>1</td>\n",
       "      <td>no</td>\n",
       "      <td>southwest</td>\n",
       "      <td>9391.34600</td>\n",
       "    </tr>\n",
       "    <tr>\n",
       "      <th>3</th>\n",
       "      <td>47</td>\n",
       "      <td>male</td>\n",
       "      <td>36.080</td>\n",
       "      <td>1</td>\n",
       "      <td>yes</td>\n",
       "      <td>southeast</td>\n",
       "      <td>42211.13820</td>\n",
       "    </tr>\n",
       "    <tr>\n",
       "      <th>4</th>\n",
       "      <td>46</td>\n",
       "      <td>female</td>\n",
       "      <td>28.900</td>\n",
       "      <td>2</td>\n",
       "      <td>no</td>\n",
       "      <td>southwest</td>\n",
       "      <td>8823.27900</td>\n",
       "    </tr>\n",
       "  </tbody>\n",
       "</table>\n",
       "</div>"
      ],
      "text/plain": [
       "   age     sex     bmi  children smoker     region      charges\n",
       "0   24    male  23.655         0     no  northwest   2352.96845\n",
       "1   28  female  26.510         2     no  southeast   4340.44090\n",
       "2   51    male  39.700         1     no  southwest   9391.34600\n",
       "3   47    male  36.080         1    yes  southeast  42211.13820\n",
       "4   46  female  28.900         2     no  southwest   8823.27900"
      ]
     },
     "execution_count": 5,
     "metadata": {
      "tags": []
     },
     "output_type": "execute_result"
    }
   ],
   "source": [
    "df.head()"
   ]
  },
  {
   "cell_type": "markdown",
   "metadata": {
    "id": "QDlKIcUKTlAM"
   },
   "source": [
    "#### a) Kiểu dữ liệu của các cột"
   ]
  },
  {
   "cell_type": "code",
   "execution_count": 6,
   "metadata": {
    "colab": {
     "base_uri": "https://localhost:8080/"
    },
    "id": "uxkgSW8TzMX3",
    "outputId": "18524499-a255-47ce-f5c8-0cd42f9cc37d"
   },
   "outputs": [
    {
     "data": {
      "text/plain": [
       "age           int64\n",
       "sex          object\n",
       "bmi         float64\n",
       "children      int64\n",
       "smoker       object\n",
       "region       object\n",
       "charges     float64\n",
       "dtype: object"
      ]
     },
     "execution_count": 6,
     "metadata": {
      "tags": []
     },
     "output_type": "execute_result"
    }
   ],
   "source": [
    "df.dtypes"
   ]
  },
  {
   "cell_type": "markdown",
   "metadata": {
    "id": "ocOmuau6EwVF"
   },
   "source": [
    "<b>Nhận xét:</b> \n",
    "- Ở cột children, kiểu dữ liệu là dạng `numerical` nhưng thật ra cột này có kiểu `ordinal categorical` nên để cột này dạng `numerical` sẽ không có ảnh hưởng.\n",
    "- Các cột còn lại không có gì bất thường."
   ]
  },
  {
   "cell_type": "markdown",
   "metadata": {
    "id": "fsAjZeBxT8Oi"
   },
   "source": [
    "#### b) Dữ liệu có bao nhiều dòng, cột"
   ]
  },
  {
   "cell_type": "code",
   "execution_count": 7,
   "metadata": {
    "colab": {
     "base_uri": "https://localhost:8080/"
    },
    "id": "GiOFOB3NzMX3",
    "outputId": "137ee777-7d61-4f60-f650-624568801abe"
   },
   "outputs": [
    {
     "data": {
      "text/plain": [
       "(1338, 7)"
      ]
     },
     "execution_count": 7,
     "metadata": {
      "tags": []
     },
     "output_type": "execute_result"
    }
   ],
   "source": [
    "df.shape"
   ]
  },
  {
   "cell_type": "code",
   "execution_count": 8,
   "metadata": {
    "colab": {
     "base_uri": "https://localhost:8080/"
    },
    "id": "fI2XEJ3hEwVH",
    "outputId": "3a3e369f-9176-45eb-82ac-f1ad3360bfe9"
   },
   "outputs": [
    {
     "data": {
      "text/plain": [
       "(1003, 7)"
      ]
     },
     "execution_count": 8,
     "metadata": {
      "tags": []
     },
     "output_type": "execute_result"
    }
   ],
   "source": [
    "df_train.shape"
   ]
  },
  {
   "cell_type": "code",
   "execution_count": 9,
   "metadata": {
    "colab": {
     "base_uri": "https://localhost:8080/"
    },
    "id": "0i594evxEwVJ",
    "outputId": "58798b56-064d-412c-972c-9f04ba21efd8"
   },
   "outputs": [
    {
     "data": {
      "text/plain": [
       "(335, 7)"
      ]
     },
     "execution_count": 9,
     "metadata": {
      "tags": []
     },
     "output_type": "execute_result"
    }
   ],
   "source": [
    "df_test.shape"
   ]
  },
  {
   "cell_type": "markdown",
   "metadata": {
    "id": "AWHrS7koEwVJ"
   },
   "source": [
    "Nhận xét: Dữ liệu có 1338 dòng, 7 cột (trong đó 1003 dòng ở tập train, 335 dòng ở tập test)."
   ]
  },
  {
   "cell_type": "markdown",
   "metadata": {
    "id": "K7KNjgIwUGkm"
   },
   "source": [
    "#### c) Thống kê chi tiết của các cột có kiểu dữ liệu object"
   ]
  },
  {
   "cell_type": "code",
   "execution_count": 10,
   "metadata": {
    "colab": {
     "base_uri": "https://localhost:8080/",
     "height": 166
    },
    "id": "kWicVFrHzMX3",
    "outputId": "120606f8-c7b8-4c25-cfe9-c21ba785f5f3"
   },
   "outputs": [
    {
     "data": {
      "text/html": [
       "<div>\n",
       "<style scoped>\n",
       "    .dataframe tbody tr th:only-of-type {\n",
       "        vertical-align: middle;\n",
       "    }\n",
       "\n",
       "    .dataframe tbody tr th {\n",
       "        vertical-align: top;\n",
       "    }\n",
       "\n",
       "    .dataframe thead th {\n",
       "        text-align: right;\n",
       "    }\n",
       "</style>\n",
       "<table border=\"1\" class=\"dataframe\">\n",
       "  <thead>\n",
       "    <tr style=\"text-align: right;\">\n",
       "      <th></th>\n",
       "      <th>sex</th>\n",
       "      <th>smoker</th>\n",
       "      <th>region</th>\n",
       "    </tr>\n",
       "  </thead>\n",
       "  <tbody>\n",
       "    <tr>\n",
       "      <th>count</th>\n",
       "      <td>1338</td>\n",
       "      <td>1338</td>\n",
       "      <td>1338</td>\n",
       "    </tr>\n",
       "    <tr>\n",
       "      <th>unique</th>\n",
       "      <td>2</td>\n",
       "      <td>2</td>\n",
       "      <td>4</td>\n",
       "    </tr>\n",
       "    <tr>\n",
       "      <th>top</th>\n",
       "      <td>male</td>\n",
       "      <td>no</td>\n",
       "      <td>southeast</td>\n",
       "    </tr>\n",
       "    <tr>\n",
       "      <th>freq</th>\n",
       "      <td>676</td>\n",
       "      <td>1064</td>\n",
       "      <td>364</td>\n",
       "    </tr>\n",
       "  </tbody>\n",
       "</table>\n",
       "</div>"
      ],
      "text/plain": [
       "         sex smoker     region\n",
       "count   1338   1338       1338\n",
       "unique     2      2          4\n",
       "top     male     no  southeast\n",
       "freq     676   1064        364"
      ]
     },
     "execution_count": 10,
     "metadata": {
      "tags": []
     },
     "output_type": "execute_result"
    }
   ],
   "source": [
    "df.describe(include =\"object\")"
   ]
  },
  {
   "cell_type": "markdown",
   "metadata": {
    "id": "vM1XU1iuUXag"
   },
   "source": [
    "#### d) Thống kê chi tiết của các cột có kiểu dữ liệu số"
   ]
  },
  {
   "cell_type": "code",
   "execution_count": 11,
   "metadata": {
    "colab": {
     "base_uri": "https://localhost:8080/",
     "height": 284
    },
    "id": "37Qp0OTCzMX4",
    "outputId": "147af7c7-1a79-4169-871e-bef525a73980"
   },
   "outputs": [
    {
     "data": {
      "text/html": [
       "<div>\n",
       "<style scoped>\n",
       "    .dataframe tbody tr th:only-of-type {\n",
       "        vertical-align: middle;\n",
       "    }\n",
       "\n",
       "    .dataframe tbody tr th {\n",
       "        vertical-align: top;\n",
       "    }\n",
       "\n",
       "    .dataframe thead th {\n",
       "        text-align: right;\n",
       "    }\n",
       "</style>\n",
       "<table border=\"1\" class=\"dataframe\">\n",
       "  <thead>\n",
       "    <tr style=\"text-align: right;\">\n",
       "      <th></th>\n",
       "      <th>age</th>\n",
       "      <th>bmi</th>\n",
       "      <th>children</th>\n",
       "      <th>charges</th>\n",
       "    </tr>\n",
       "  </thead>\n",
       "  <tbody>\n",
       "    <tr>\n",
       "      <th>count</th>\n",
       "      <td>1338.000000</td>\n",
       "      <td>1338.000000</td>\n",
       "      <td>1338.000000</td>\n",
       "      <td>1338.000000</td>\n",
       "    </tr>\n",
       "    <tr>\n",
       "      <th>mean</th>\n",
       "      <td>39.207025</td>\n",
       "      <td>30.663397</td>\n",
       "      <td>1.094918</td>\n",
       "      <td>13270.422265</td>\n",
       "    </tr>\n",
       "    <tr>\n",
       "      <th>std</th>\n",
       "      <td>14.049960</td>\n",
       "      <td>6.098187</td>\n",
       "      <td>1.205493</td>\n",
       "      <td>12110.011237</td>\n",
       "    </tr>\n",
       "    <tr>\n",
       "      <th>min</th>\n",
       "      <td>18.000000</td>\n",
       "      <td>15.960000</td>\n",
       "      <td>0.000000</td>\n",
       "      <td>1121.873900</td>\n",
       "    </tr>\n",
       "    <tr>\n",
       "      <th>25%</th>\n",
       "      <td>27.000000</td>\n",
       "      <td>26.296250</td>\n",
       "      <td>0.000000</td>\n",
       "      <td>4740.287150</td>\n",
       "    </tr>\n",
       "    <tr>\n",
       "      <th>50%</th>\n",
       "      <td>39.000000</td>\n",
       "      <td>30.400000</td>\n",
       "      <td>1.000000</td>\n",
       "      <td>9382.033000</td>\n",
       "    </tr>\n",
       "    <tr>\n",
       "      <th>75%</th>\n",
       "      <td>51.000000</td>\n",
       "      <td>34.693750</td>\n",
       "      <td>2.000000</td>\n",
       "      <td>16639.912515</td>\n",
       "    </tr>\n",
       "    <tr>\n",
       "      <th>max</th>\n",
       "      <td>64.000000</td>\n",
       "      <td>53.130000</td>\n",
       "      <td>5.000000</td>\n",
       "      <td>63770.428010</td>\n",
       "    </tr>\n",
       "  </tbody>\n",
       "</table>\n",
       "</div>"
      ],
      "text/plain": [
       "               age          bmi     children       charges\n",
       "count  1338.000000  1338.000000  1338.000000   1338.000000\n",
       "mean     39.207025    30.663397     1.094918  13270.422265\n",
       "std      14.049960     6.098187     1.205493  12110.011237\n",
       "min      18.000000    15.960000     0.000000   1121.873900\n",
       "25%      27.000000    26.296250     0.000000   4740.287150\n",
       "50%      39.000000    30.400000     1.000000   9382.033000\n",
       "75%      51.000000    34.693750     2.000000  16639.912515\n",
       "max      64.000000    53.130000     5.000000  63770.428010"
      ]
     },
     "execution_count": 11,
     "metadata": {
      "tags": []
     },
     "output_type": "execute_result"
    }
   ],
   "source": [
    "df.describe()"
   ]
  },
  {
   "cell_type": "markdown",
   "metadata": {
    "id": "tSS9HBgeUcCM"
   },
   "source": [
    "#### e) Có cột nào có giá trị thiếu không?"
   ]
  },
  {
   "cell_type": "code",
   "execution_count": 12,
   "metadata": {
    "colab": {
     "base_uri": "https://localhost:8080/"
    },
    "id": "eXVK7hO7zMX4",
    "outputId": "eb54b611-d7eb-40f3-fadd-2b68e0e37a22"
   },
   "outputs": [
    {
     "data": {
      "text/plain": [
       "age         0\n",
       "sex         0\n",
       "bmi         0\n",
       "children    0\n",
       "smoker      0\n",
       "region      0\n",
       "charges     0\n",
       "dtype: int64"
      ]
     },
     "execution_count": 12,
     "metadata": {
      "tags": []
     },
     "output_type": "execute_result"
    }
   ],
   "source": [
    "df.isna().sum()"
   ]
  },
  {
   "cell_type": "markdown",
   "metadata": {
    "id": "SjiwIkhYEwVO"
   },
   "source": [
    "<b>Nhận xét:</b> Không có cột nào bị thiếu dữ liệu."
   ]
  },
  {
   "cell_type": "markdown",
   "metadata": {
    "id": "YXzEtZxQUlTz"
   },
   "source": [
    "#### f) Dữ liệu có dòng nào bị lặp hay không?"
   ]
  },
  {
   "cell_type": "code",
   "execution_count": 13,
   "metadata": {
    "colab": {
     "base_uri": "https://localhost:8080/"
    },
    "id": "q5VyMUuHUrti",
    "outputId": "d56f2051-a4f3-4c67-bfa4-ff301adad674"
   },
   "outputs": [
    {
     "data": {
      "text/plain": [
       "1"
      ]
     },
     "execution_count": 13,
     "metadata": {
      "tags": []
     },
     "output_type": "execute_result"
    }
   ],
   "source": [
    "df.duplicated().sum()"
   ]
  },
  {
   "cell_type": "markdown",
   "metadata": {
    "id": "02n_iyS-EwVQ"
   },
   "source": [
    "<b>Nhận xét:</b> Có dòng bị lặp."
   ]
  },
  {
   "cell_type": "markdown",
   "metadata": {
    "id": "wcHRjvElEwVR"
   },
   "source": [
    "Xóa dòng bị lặp"
   ]
  },
  {
   "cell_type": "code",
   "execution_count": 14,
   "metadata": {
    "id": "176bgKQuEwVR"
   },
   "outputs": [],
   "source": [
    "df.drop_duplicates(inplace = True)"
   ]
  },
  {
   "cell_type": "markdown",
   "metadata": {
    "id": "IybC3JYrzMX4"
   },
   "source": [
    "---"
   ]
  },
  {
   "cell_type": "markdown",
   "metadata": {
    "id": "x_0IscMmzMX5"
   },
   "source": [
    "# III. Phân tích dữ liệu"
   ]
  },
  {
   "cell_type": "markdown",
   "metadata": {
    "id": "Hkf7N02VzMX5"
   },
   "source": [
    "### 1. Phân bố các trường dữ liệu"
   ]
  },
  {
   "cell_type": "markdown",
   "metadata": {
    "id": "kD5zdClfEwVU"
   },
   "source": [
    "#### a) Trường dữ liệu dạng số"
   ]
  },
  {
   "cell_type": "code",
   "execution_count": 15,
   "metadata": {
    "colab": {
     "base_uri": "https://localhost:8080/",
     "height": 879
    },
    "id": "1-n5pQclzMX5",
    "outputId": "bf948938-010e-449c-abaf-e84607397eb0",
    "scrolled": false
   },
   "outputs": [
    {
     "data": {
      "image/png": "[encoded data removed]",
      "text/plain": [
       "<Figure size 1440x1080 with 4 Axes>"
      ]
     },
     "metadata": {
      "needs_background": "light",
      "tags": []
     },
     "output_type": "display_data"
    }
   ],
   "source": [
    "fig = plt.figure(figsize = (20,15))\n",
    "ax = fig.gca()\n",
    "df.hist(ax = ax)\n",
    "plt.show()"
   ]
  },
  {
   "cell_type": "markdown",
   "metadata": {
    "id": "6OzykFFKEwVW"
   },
   "source": [
    "<b>Nhận xét:</b> \n",
    "- Ở cột age, độ tuổi từ 15-23 chiếm phần lớn (hơn 160).\n",
    "- Ở cột BMI, chỉ số từ 27-31 chiếm phần lớn (gần 250).\n",
    "- Ở cột Children, số người không có con chiếm phần lớn (hơn 400).\n",
    "- Ở cột Charges, chi phí trong khoảng từ 1000-6000 chiếm phần lớn (gần 400)."
   ]
  },
  {
   "cell_type": "markdown",
   "metadata": {
    "id": "UXaCgPijEwVX"
   },
   "source": [
    "#### b) Trường dữ liệu dạng object"
   ]
  },
  {
   "cell_type": "code",
   "execution_count": 16,
   "metadata": {
    "colab": {
     "base_uri": "https://localhost:8080/",
     "height": 652
    },
    "id": "ziMNpEkSzMX5",
    "outputId": "91039f98-ade3-440b-e9bb-606a83e04ba8",
    "scrolled": false
   },
   "outputs": [
    {
     "data": {
      "text/plain": [
       "<BarContainer object of 4 artists>"
      ]
     },
     "execution_count": 16,
     "metadata": {
      "tags": []
     },
     "output_type": "execute_result"
    },
    {
     "data": {
      "image/png": "[encoded data removed]",
      "text/plain": [
       "<Figure size 1116x756 with 3 Axes>"
      ]
     },
     "metadata": {
      "needs_background": "light",
      "tags": []
     },
     "output_type": "display_data"
    }
   ],
   "source": [
    "fig , axes = plt.subplots(1,3)\n",
    "fig.set_size_inches(15.5, 10.5)\n",
    "smoker_value_counts = df['smoker'].value_counts()\n",
    "axes[0].bar(smoker_value_counts.index.tolist(), smoker_value_counts)\n",
    "axes[0].set_title(\"smoker\")\n",
    "sex_value_counts = df['sex'].value_counts()\n",
    "axes[1].set_title(\"sex\")\n",
    "axes[1].bar(sex_value_counts.index.tolist(), sex_value_counts)\n",
    "region_value_counts = df['region'].value_counts()\n",
    "axes[2].set_title(\"region\")\n",
    "axes[2].bar(region_value_counts.index.tolist(), region_value_counts)"
   ]
  },
  {
   "cell_type": "markdown",
   "metadata": {
    "id": "1jnr06YFEwVZ"
   },
   "source": [
    "<b>Nhận xét:</b> \n",
    "- Ở cột Smoker dữ liệu bị lệch, số lượng người không hút thuốc chiếm nhiều hơn số lượng người hút thuốc (chênh lệch khoảng 600).\n",
    "- Ở cột Sex và Region dữ liệu phân bố tương đối ở các giá trị."
   ]
  },
  {
   "cell_type": "markdown",
   "metadata": {
    "id": "2SihZD-GzMX6"
   },
   "source": [
    "### 2. Mối tương quan giữa các trường dữ liệu."
   ]
  },
  {
   "cell_type": "markdown",
   "metadata": {
    "id": "oi54KsgQzMX6"
   },
   "source": [
    "#### a) Mối tương quan giữa các thuộc tính dạng Numerical với Charges."
   ]
  },
  {
   "cell_type": "code",
   "execution_count": 17,
   "metadata": {
    "colab": {
     "base_uri": "https://localhost:8080/",
     "height": 282
    },
    "id": "MXFe92mZzMX6",
    "outputId": "5273e869-c7f6-4793-cd5a-ca536a305740"
   },
   "outputs": [
    {
     "data": {
      "text/plain": [
       "<matplotlib.axes._subplots.AxesSubplot at 0x7fb3b8ce8990>"
      ]
     },
     "execution_count": 17,
     "metadata": {
      "tags": []
     },
     "output_type": "execute_result"
    },
    {
     "data": {
      "image/png": "[encoded data removed]",
      "text/plain": [
       "<Figure size 432x288 with 1 Axes>"
      ]
     },
     "metadata": {
      "needs_background": "light",
      "tags": []
     },
     "output_type": "display_data"
    }
   ],
   "source": [
    "sns.heatmap(df.corr(), linewidths=.5, cmap='Reds', fmt='.1f', annot=True, \n",
    "            cbar=False)"
   ]
  },
  {
   "cell_type": "markdown",
   "metadata": {
    "id": "3Etna4Y3EwVb"
   },
   "source": [
    "<b>Nhận xét:</b> \n",
    "- Age và Charges, BMI và Charges, Children và Charges có mối tương quan thuận nhưng không mạnh (chỉ 0.3, 0.2 và 0.1)\n",
    "- BMI và Children không có mối tương quan (chỉ số Correlation = 0)."
   ]
  },
  {
   "cell_type": "markdown",
   "metadata": {
    "id": "GjfCCkitEwVb"
   },
   "source": [
    "<b>Vẽ biểu đồ giữa Age và Charges, BMI và Charges, Children và Charges để thấy mối tương quan thuận. </b>"
   ]
  },
  {
   "cell_type": "markdown",
   "metadata": {
    "id": "80r2t4lWEwVc"
   },
   "source": [
    "- Biểu đồ thể hiện mối quan hệ giữa Age và Charges"
   ]
  },
  {
   "cell_type": "code",
   "execution_count": 18,
   "metadata": {
    "colab": {
     "base_uri": "https://localhost:8080/",
     "height": 296
    },
    "id": "ih4eqABDzMX6",
    "outputId": "9a577d83-22b0-4816-99e8-4dfe1ca7d1f9"
   },
   "outputs": [
    {
     "data": {
      "text/plain": [
       "<matplotlib.axes._subplots.AxesSubplot at 0x7fb3b0472fd0>"
      ]
     },
     "execution_count": 18,
     "metadata": {
      "tags": []
     },
     "output_type": "execute_result"
    },
    {
     "data": {
      "image/png": "[encoded data removed]",
      "text/plain": [
       "<Figure size 432x288 with 1 Axes>"
      ]
     },
     "metadata": {
      "needs_background": "light",
      "tags": []
     },
     "output_type": "display_data"
    }
   ],
   "source": [
    "sns.scatterplot(x=df['age'],y = df['charges'])"
   ]
  },
  {
   "cell_type": "code",
   "execution_count": 19,
   "metadata": {
    "colab": {
     "base_uri": "https://localhost:8080/",
     "height": 296
    },
    "id": "kqwp1nmMzMX7",
    "outputId": "7647ca85-5ada-41e2-9178-98aa790abee9",
    "scrolled": true
   },
   "outputs": [
    {
     "data": {
      "text/plain": [
       "<matplotlib.axes._subplots.AxesSubplot at 0x7fb3b03f3d10>"
      ]
     },
     "execution_count": 19,
     "metadata": {
      "tags": []
     },
     "output_type": "execute_result"
    },
    {
     "data": {
      "image/png": "[encoded data removed]",
      "text/plain": [
       "<Figure size 432x288 with 1 Axes>"
      ]
     },
     "metadata": {
      "needs_background": "light",
      "tags": []
     },
     "output_type": "display_data"
    }
   ],
   "source": [
    "sns.regplot(x=df['age'],y=df['charges'], line_kws={\"color\": \"red\"})"
   ]
  },
  {
   "cell_type": "markdown",
   "metadata": {
    "id": "RxVEUWIKEwVd"
   },
   "source": [
    "- Biểu đồ thể hiện mối quan hệ giữa BMI và Charges."
   ]
  },
  {
   "cell_type": "code",
   "execution_count": 20,
   "metadata": {
    "colab": {
     "base_uri": "https://localhost:8080/",
     "height": 296
    },
    "id": "9PesA5epzMX7",
    "outputId": "68d7a7d7-3e0b-4f84-de4d-67044db2a9d7"
   },
   "outputs": [
    {
     "data": {
      "text/plain": [
       "<matplotlib.axes._subplots.AxesSubplot at 0x7fb3b0369ad0>"
      ]
     },
     "execution_count": 20,
     "metadata": {
      "tags": []
     },
     "output_type": "execute_result"
    },
    {
     "data": {
      "image/png": "[encoded data removed]",
      "text/plain": [
       "<Figure size 432x288 with 1 Axes>"
      ]
     },
     "metadata": {
      "needs_background": "light",
      "tags": []
     },
     "output_type": "display_data"
    }
   ],
   "source": [
    "sns.scatterplot(x=df['bmi'],y = df['charges'])"
   ]
  },
  {
   "cell_type": "code",
   "execution_count": 21,
   "metadata": {
    "colab": {
     "base_uri": "https://localhost:8080/",
     "height": 296
    },
    "id": "9yfamswKzMX7",
    "outputId": "e84ef211-509e-4519-f30a-8bccf4a61b07"
   },
   "outputs": [
    {
     "data": {
      "text/plain": [
       "<matplotlib.axes._subplots.AxesSubplot at 0x7fb3b93b6a10>"
      ]
     },
     "execution_count": 21,
     "metadata": {
      "tags": []
     },
     "output_type": "execute_result"
    },
    {
     "data": {
      "image/png": "[encoded data removed]",
      "text/plain": [
       "<Figure size 432x288 with 1 Axes>"
      ]
     },
     "metadata": {
      "needs_background": "light",
      "tags": []
     },
     "output_type": "display_data"
    }
   ],
   "source": [
    "sns.regplot(x=df['bmi'],y=df['charges'],  line_kws={\"color\": \"red\"})"
   ]
  },
  {
   "cell_type": "markdown",
   "metadata": {
    "id": "yNeaq2svEwVe"
   },
   "source": [
    "- Biểu đồ thể hiện mối quan hệ giữa Children và Charges."
   ]
  },
  {
   "cell_type": "code",
   "execution_count": 22,
   "metadata": {
    "colab": {
     "base_uri": "https://localhost:8080/",
     "height": 296
    },
    "id": "O_pihpY6zMX8",
    "outputId": "9e568b92-2827-4a2e-9199-c2a85dd5751c",
    "scrolled": true
   },
   "outputs": [
    {
     "data": {
      "text/plain": [
       "<matplotlib.axes._subplots.AxesSubplot at 0x7fb3b9302dd0>"
      ]
     },
     "execution_count": 22,
     "metadata": {
      "tags": []
     },
     "output_type": "execute_result"
    },
    {
     "data": {
      "image/png": "[encoded data removed]",
      "text/plain": [
       "<Figure size 432x288 with 1 Axes>"
      ]
     },
     "metadata": {
      "needs_background": "light",
      "tags": []
     },
     "output_type": "display_data"
    }
   ],
   "source": [
    "sns.scatterplot(x=df['children'],y = df['charges'])"
   ]
  },
  {
   "cell_type": "code",
   "execution_count": 23,
   "metadata": {
    "colab": {
     "base_uri": "https://localhost:8080/",
     "height": 296
    },
    "id": "yy-xlJ8-EwVf",
    "outputId": "7066077d-c406-4e50-a1e4-d59152d2a965"
   },
   "outputs": [
    {
     "data": {
      "text/plain": [
       "<matplotlib.axes._subplots.AxesSubplot at 0x7fb3b022b790>"
      ]
     },
     "execution_count": 23,
     "metadata": {
      "tags": []
     },
     "output_type": "execute_result"
    },
    {
     "data": {
      "image/png": "[encoded data removed]",
      "text/plain": [
       "<Figure size 432x288 with 1 Axes>"
      ]
     },
     "metadata": {
      "needs_background": "light",
      "tags": []
     },
     "output_type": "display_data"
    }
   ],
   "source": [
    "sns.regplot(x=df['children'],y = df['charges'], line_kws={\"color\": \"red\"})"
   ]
  },
  {
   "cell_type": "markdown",
   "metadata": {
    "id": "lrTip86HzMX9"
   },
   "source": [
    "#### b) Mối tương quan giữa các thuộc tính Catergorical với Charges."
   ]
  },
  {
   "cell_type": "markdown",
   "metadata": {
    "id": "GxqK3gDWEwVg"
   },
   "source": [
    "<b>Vẽ biểu đồ thể hiện mối quan hệ giữa Smoker và Charges.</b>"
   ]
  },
  {
   "cell_type": "markdown",
   "metadata": {
    "id": "UXjSqDQQEwVg"
   },
   "source": [
    "- Biểu đồ thể hiện sự phân bố của Smoker và Charges."
   ]
  },
  {
   "cell_type": "code",
   "execution_count": 24,
   "metadata": {
    "colab": {
     "base_uri": "https://localhost:8080/",
     "height": 296
    },
    "id": "dneZVt7JzMX9",
    "outputId": "e1cd4207-7df4-4ece-e05b-ae46fe4f1e4e",
    "scrolled": true
   },
   "outputs": [
    {
     "data": {
      "text/plain": [
       "<matplotlib.axes._subplots.AxesSubplot at 0x7fb3b0199890>"
      ]
     },
     "execution_count": 24,
     "metadata": {
      "tags": []
     },
     "output_type": "execute_result"
    },
    {
     "data": {
      "image/png": "[encoded data removed]",
      "text/plain": [
       "<Figure size 432x288 with 1 Axes>"
      ]
     },
     "metadata": {
      "needs_background": "light",
      "tags": []
     },
     "output_type": "display_data"
    }
   ],
   "source": [
    "sns.swarmplot(x=df['smoker'],y = df['charges'])"
   ]
  },
  {
   "cell_type": "markdown",
   "metadata": {
    "id": "XXwGFpIlEwVh"
   },
   "source": [
    "- Biểu đồ thể hiện giá trị trung bình của Charges với từng giá trị của thuộc tính trong Smoker."
   ]
  },
  {
   "cell_type": "code",
   "execution_count": 25,
   "metadata": {
    "colab": {
     "base_uri": "https://localhost:8080/",
     "height": 300
    },
    "id": "YUz9zgHJEwVi",
    "outputId": "7d50356e-1c5f-4491-f538-b62016ae18da",
    "scrolled": true
   },
   "outputs": [
    {
     "data": {
      "text/plain": [
       "<matplotlib.axes._subplots.AxesSubplot at 0x7fb3b0178690>"
      ]
     },
     "execution_count": 25,
     "metadata": {
      "tags": []
     },
     "output_type": "execute_result"
    },
    {
     "data": {
      "image/png": "[encoded data removed]",
      "text/plain": [
       "<Figure size 432x288 with 1 Axes>"
      ]
     },
     "metadata": {
      "needs_background": "light",
      "tags": []
     },
     "output_type": "display_data"
    }
   ],
   "source": [
    "sns.barplot(x=df['smoker'],y = df['charges'])"
   ]
  },
  {
   "cell_type": "markdown",
   "metadata": {
    "id": "pXGmT8hCEwVj"
   },
   "source": [
    "Tính giá trị trung bình trong biểu đồ."
   ]
  },
  {
   "cell_type": "code",
   "execution_count": 26,
   "metadata": {
    "colab": {
     "base_uri": "https://localhost:8080/"
    },
    "id": "3T0DjRdGEwVk",
    "outputId": "86427c57-87e1-445c-93fd-286e2cfb3327"
   },
   "outputs": [
    {
     "data": {
      "text/plain": [
       "smoker\n",
       "no      8440.660307\n",
       "yes    32050.231832\n",
       "Name: charges, dtype: float64"
      ]
     },
     "execution_count": 26,
     "metadata": {
      "tags": []
     },
     "output_type": "execute_result"
    }
   ],
   "source": [
    "df.groupby(df[\"smoker\"])[\"charges\"].mean()"
   ]
  },
  {
   "cell_type": "markdown",
   "metadata": {
    "id": "X-SklE3QzMX-"
   },
   "source": [
    "<b>Nhận xét:</b> \n",
    "- Những người hút thuốc sẽ có chi phí y tế cao hơn những người không hút thuốc.\n",
    "- Nhìn biểu đồ giá trị trung bình ta có thể thấy độ chênh lệch này là rất nhiều (khoảng hơn 20000).\n",
    "\n",
    "Vậy `Smoker`có ý nghĩa rất quan trọng trong việc dự đoán `Charges`."
   ]
  },
  {
   "cell_type": "markdown",
   "metadata": {
    "id": "nzIFzzwXEwVm"
   },
   "source": [
    "<b>Vẽ biểu đồ thể hiện mối quan hệ giữa Region và Charges.</b>"
   ]
  },
  {
   "cell_type": "markdown",
   "metadata": {
    "id": "EZDw7OrCEwVm"
   },
   "source": [
    "- Biểu đồ thể hiện sự phân bố của Region và Charges."
   ]
  },
  {
   "cell_type": "code",
   "execution_count": 27,
   "metadata": {
    "colab": {
     "base_uri": "https://localhost:8080/",
     "height": 296
    },
    "id": "nfYesFxZEwVn",
    "outputId": "ee9fd97c-99a9-4e74-ce0a-177a64ec368a"
   },
   "outputs": [
    {
     "data": {
      "text/plain": [
       "<matplotlib.axes._subplots.AxesSubplot at 0x7fb3b00e9910>"
      ]
     },
     "execution_count": 27,
     "metadata": {
      "tags": []
     },
     "output_type": "execute_result"
    },
    {
     "data": {
      "image/png": "[encoded data removed]",
      "text/plain": [
       "<Figure size 432x288 with 1 Axes>"
      ]
     },
     "metadata": {
      "needs_background": "light",
      "tags": []
     },
     "output_type": "display_data"
    }
   ],
   "source": [
    "sns.swarmplot(x=df['region'],y = df['charges'])"
   ]
  },
  {
   "cell_type": "markdown",
   "metadata": {
    "id": "g878hcYbEwVo"
   },
   "source": [
    "- Biểu đồ thể hiện giá trị trung bình của Charges với từng giá trị của thuộc tính trong Region."
   ]
  },
  {
   "cell_type": "code",
   "execution_count": 28,
   "metadata": {
    "colab": {
     "base_uri": "https://localhost:8080/",
     "height": 296
    },
    "id": "xxTCRhlkEwVo",
    "outputId": "addac32c-300c-44ff-8a13-9cb37ab53797",
    "scrolled": true
   },
   "outputs": [
    {
     "data": {
      "text/plain": [
       "<matplotlib.axes._subplots.AxesSubplot at 0x7fb3b0058f50>"
      ]
     },
     "execution_count": 28,
     "metadata": {
      "tags": []
     },
     "output_type": "execute_result"
    },
    {
     "data": {
      "image/png": "[encoded data removed]",
      "text/plain": [
       "<Figure size 432x288 with 1 Axes>"
      ]
     },
     "metadata": {
      "needs_background": "light",
      "tags": []
     },
     "output_type": "display_data"
    }
   ],
   "source": [
    "sns.barplot(x=df['region'],y = df['charges'])"
   ]
  },
  {
   "cell_type": "markdown",
   "metadata": {
    "id": "Mxm6oqTBEwVp"
   },
   "source": [
    "Tính giá trị trung bình trong biểu đồ."
   ]
  },
  {
   "cell_type": "code",
   "execution_count": 29,
   "metadata": {
    "colab": {
     "base_uri": "https://localhost:8080/"
    },
    "id": "cu0gMihFEwVp",
    "outputId": "4bb8ae08-9dff-40ef-b7af-539bf8f32e45"
   },
   "outputs": [
    {
     "data": {
      "text/plain": [
       "region\n",
       "northeast    13406.384516\n",
       "northwest    12450.840844\n",
       "southeast    14735.411438\n",
       "southwest    12346.937377\n",
       "Name: charges, dtype: float64"
      ]
     },
     "execution_count": 29,
     "metadata": {
      "tags": []
     },
     "output_type": "execute_result"
    }
   ],
   "source": [
    "df.groupby(df[\"region\"])[\"charges\"].mean()"
   ]
  },
  {
   "cell_type": "markdown",
   "metadata": {
    "id": "TB4TFtIZEwVq"
   },
   "source": [
    "<b>Nhận xét:</b> \n",
    "- Những người ở vùng Đông Nam sẽ có chi phí y tế cao hơn tuy không nhiều.\n",
    "- Độ chênh lệch giữa các vùng với nhau không nhiều, gần như tương đương nhau."
   ]
  },
  {
   "cell_type": "markdown",
   "metadata": {
    "id": "rStdmBM-EwVq"
   },
   "source": [
    "<b>Vẽ biểu đồ thể hiện mối quan hệ giữa Sex và Charges.</b>"
   ]
  },
  {
   "cell_type": "markdown",
   "metadata": {
    "id": "4XPMfqsbEwVq"
   },
   "source": [
    "- Biểu đồ thể hiện sự phân bố của Sex và Charges."
   ]
  },
  {
   "cell_type": "code",
   "execution_count": 30,
   "metadata": {
    "colab": {
     "base_uri": "https://localhost:8080/",
     "height": 296
    },
    "id": "BfJFRVWREwVr",
    "outputId": "49422e84-b5e8-440c-8794-779cfc40b170"
   },
   "outputs": [
    {
     "data": {
      "text/plain": [
       "<matplotlib.axes._subplots.AxesSubplot at 0x7fb3ae7d2350>"
      ]
     },
     "execution_count": 30,
     "metadata": {
      "tags": []
     },
     "output_type": "execute_result"
    },
    {
     "data": {
      "image/png": "[encoded data removed]",
      "text/plain": [
       "<Figure size 432x288 with 1 Axes>"
      ]
     },
     "metadata": {
      "needs_background": "light",
      "tags": []
     },
     "output_type": "display_data"
    }
   ],
   "source": [
    "sns.swarmplot(x=df['sex'],y = df['charges'] )"
   ]
  },
  {
   "cell_type": "markdown",
   "metadata": {
    "id": "m7lTYAQqEwVr"
   },
   "source": [
    "- Biểu đồ thể hiện giá trị trung bình của Charges với từng giá trị của thuộc tính trong Sex."
   ]
  },
  {
   "cell_type": "code",
   "execution_count": 31,
   "metadata": {
    "colab": {
     "base_uri": "https://localhost:8080/",
     "height": 296
    },
    "id": "Zc8Z4gvPEwVs",
    "outputId": "5b33a7ec-0849-47aa-f73c-6633c64080e7"
   },
   "outputs": [
    {
     "data": {
      "text/plain": [
       "<matplotlib.axes._subplots.AxesSubplot at 0x7fb3ae74a450>"
      ]
     },
     "execution_count": 31,
     "metadata": {
      "tags": []
     },
     "output_type": "execute_result"
    },
    {
     "data": {
      "image/png": "[encoded data removed]",
      "text/plain": [
       "<Figure size 432x288 with 1 Axes>"
      ]
     },
     "metadata": {
      "needs_background": "light",
      "tags": []
     },
     "output_type": "display_data"
    }
   ],
   "source": [
    "sns.barplot(x=df['sex'],y = df['charges'])"
   ]
  },
  {
   "cell_type": "markdown",
   "metadata": {
    "id": "F45qq8ekEwVs"
   },
   "source": [
    "Tính giá trị trung bình trong biểu đồ."
   ]
  },
  {
   "cell_type": "code",
   "execution_count": 32,
   "metadata": {
    "colab": {
     "base_uri": "https://localhost:8080/"
    },
    "id": "aEI4qB1sEwVt",
    "outputId": "5f1e4c46-2184-4637-c731-7c4a816dd8e3"
   },
   "outputs": [
    {
     "data": {
      "text/plain": [
       "sex\n",
       "female    12569.578844\n",
       "male      13974.998864\n",
       "Name: charges, dtype: float64"
      ]
     },
     "execution_count": 32,
     "metadata": {
      "tags": []
     },
     "output_type": "execute_result"
    }
   ],
   "source": [
    "df.groupby(df[\"sex\"])[\"charges\"].mean()"
   ]
  },
  {
   "cell_type": "markdown",
   "metadata": {
    "id": "mouusqKkEwVu"
   },
   "source": [
    "<b>Nhận xét:</b> \n",
    "- Những người nam sẽ có chi phí y tế cao hơn tuy không nhiều.\n",
    "- Độ chênh lệch chi phí y tế giữa giới tính không nhiều, gần như tương đương nhau. "
   ]
  },
  {
   "cell_type": "markdown",
   "metadata": {
    "id": "MKpn1NBhEwVv"
   },
   "source": [
    "<b>Vẽ biểu đồ thể hiện mối quan hệ giữa Children và Charges.</b>"
   ]
  },
  {
   "cell_type": "markdown",
   "metadata": {
    "id": "Sp498lzUEwVv"
   },
   "source": [
    "Giải thích: Dù Children có kiểu dữ liệu là `numerical` nhưng thật ra `ordinal categorical` vì vậy ta có thể đưa trong phần này để thấy rõ hơn."
   ]
  },
  {
   "cell_type": "markdown",
   "metadata": {
    "id": "duEX9oMIEwVv"
   },
   "source": [
    "- Biểu đồ thể hiện sự phân bố của Children và Charges."
   ]
  },
  {
   "cell_type": "code",
   "execution_count": 33,
   "metadata": {
    "colab": {
     "base_uri": "https://localhost:8080/",
     "height": 296
    },
    "id": "13GVzjgUEwVw",
    "outputId": "da058aa5-2c31-4737-f87c-5affd1ddb2ce",
    "scrolled": true
   },
   "outputs": [
    {
     "data": {
      "text/plain": [
       "<matplotlib.axes._subplots.AxesSubplot at 0x7fb3ae70c090>"
      ]
     },
     "execution_count": 33,
     "metadata": {
      "tags": []
     },
     "output_type": "execute_result"
    },
    {
     "data": {
      "image/png": "[encoded data removed]",
      "text/plain": [
       "<Figure size 432x288 with 1 Axes>"
      ]
     },
     "metadata": {
      "needs_background": "light",
      "tags": []
     },
     "output_type": "display_data"
    }
   ],
   "source": [
    "sns.swarmplot(x=df['children'],y = df['charges'] )"
   ]
  },
  {
   "cell_type": "markdown",
   "metadata": {
    "id": "plRlJGNHEwVw"
   },
   "source": [
    "- Biểu đồ thể hiện giá trị trung bình của Charges với từng giá trị của thuộc tính trong Children."
   ]
  },
  {
   "cell_type": "code",
   "execution_count": 34,
   "metadata": {
    "colab": {
     "base_uri": "https://localhost:8080/",
     "height": 296
    },
    "id": "AMJakpzZEwVx",
    "outputId": "922ed7d2-ba66-4a67-c132-3f157a584188"
   },
   "outputs": [
    {
     "data": {
      "text/plain": [
       "<matplotlib.axes._subplots.AxesSubplot at 0x7fb3ae6a5610>"
      ]
     },
     "execution_count": 34,
     "metadata": {
      "tags": []
     },
     "output_type": "execute_result"
    },
    {
     "data": {
      "image/png": "[encoded data removed]",
      "text/plain": [
       "<Figure size 432x288 with 1 Axes>"
      ]
     },
     "metadata": {
      "needs_background": "light",
      "tags": []
     },
     "output_type": "display_data"
    }
   ],
   "source": [
    "sns.barplot(x=df['children'],y = df['charges'])"
   ]
  },
  {
   "cell_type": "markdown",
   "metadata": {
    "id": "zoWtKA-oEwVx"
   },
   "source": [
    "Tính giá trị trung bình trong biểu đồ."
   ]
  },
  {
   "cell_type": "code",
   "execution_count": 35,
   "metadata": {
    "colab": {
     "base_uri": "https://localhost:8080/"
    },
    "id": "s664kZZuEwVx",
    "outputId": "a0cb1d31-268e-423e-ca37-df03497b6a07"
   },
   "outputs": [
    {
     "data": {
      "text/plain": [
       "children\n",
       "0    12384.695344\n",
       "1    12731.171832\n",
       "2    15073.563734\n",
       "3    15355.318367\n",
       "4    13850.656311\n",
       "5     8786.035247\n",
       "Name: charges, dtype: float64"
      ]
     },
     "execution_count": 35,
     "metadata": {
      "tags": []
     },
     "output_type": "execute_result"
    }
   ],
   "source": [
    "df.groupby(df[\"children\"])[\"charges\"].mean()"
   ]
  },
  {
   "cell_type": "markdown",
   "metadata": {
    "id": "X6y5LKHOEwVy"
   },
   "source": [
    "<b>Nhận xét:</b> \n",
    "- Những người có 2-3 con có chi phí dịch vụ cao hơn những người khác.\n",
    "- Những người có 5 con có chi phí dịch vụ thấp nhất."
   ]
  },
  {
   "cell_type": "markdown",
   "metadata": {
    "id": "AY298EFkEwVy"
   },
   "source": [
    "#### c) So sánh tỉ lệ hút thuốc và không hút thuốc với từng Sex, Region, AgeGroup, BMIGroup."
   ]
  },
  {
   "cell_type": "markdown",
   "metadata": {
    "id": "U6Pfa9MTEwVz"
   },
   "source": [
    "Giải thích: Vì Smoker có ảnh hưởng lớn đến Charges nên ta sẽ khảo sát thử mối quan hệ giữa nó với các thuộc tính khác trong dữ liệu."
   ]
  },
  {
   "cell_type": "markdown",
   "metadata": {
    "id": "u1ZuwTfqEwV0"
   },
   "source": [
    "-  Tỉ lệ hút thuốc và không hút thuốc ở từng giới tính."
   ]
  },
  {
   "cell_type": "code",
   "execution_count": 36,
   "metadata": {
    "colab": {
     "base_uri": "https://localhost:8080/",
     "height": 367
    },
    "id": "WK4TrgDqEwV0",
    "outputId": "46b441b5-c380-48e3-cce3-6f46ba1eaca4"
   },
   "outputs": [
    {
     "data": {
      "text/plain": [
       "[Text(0.5, 1.0, 'Smoker vs Sex')]"
      ]
     },
     "execution_count": 36,
     "metadata": {
      "tags": []
     },
     "output_type": "execute_result"
    },
    {
     "data": {
      "image/png": "[encoded data removed]",
      "text/plain": [
       "<Figure size 936x360 with 1 Axes>"
      ]
     },
     "metadata": {
      "needs_background": "light",
      "tags": []
     },
     "output_type": "display_data"
    }
   ],
   "source": [
    "def bar_perc(plot, feature):\n",
    "    total = len(feature) \n",
    "    for p in plot.patches:\n",
    "        percentage = '{:.1f}%'.format(100 * p.get_height()/total) \n",
    "        x = p.get_x() + p.get_width() / 2 - 0.05 \n",
    "        y = p.get_y() + p.get_height()          \n",
    "        plot.annotate(percentage, (x, y), size = 12) \n",
    "plt.figure(figsize=(13,5))\n",
    "ax=sns.countplot(x='sex',hue='smoker',data=df)\n",
    "bar_perc(ax,df['smoker'])\n",
    "ax.set(title=\"Smoker vs Sex\")"
   ]
  },
  {
   "cell_type": "markdown",
   "metadata": {
    "id": "OsTdQ1lFzMX-"
   },
   "source": [
    "<b>Nhận xét:</b> \n",
    "- Vì số lượng nam và nữ ở tập dữ liệu gần như nhau, nên ta thấy là nam hút thuốc nhiều hơn nữ.\n",
    "- Ở nam giới, tỉ lệ nam giới hút thuốc gần 30%, còn nữ giới hút thuốc gần 20%. Như vậy là tương đối cao."
   ]
  },
  {
   "cell_type": "markdown",
   "metadata": {
    "id": "S4mH31-6EwV1"
   },
   "source": [
    "-  Tỉ lệ hút thuốc và không hút thuốc ở từng vùng miền."
   ]
  },
  {
   "cell_type": "code",
   "execution_count": 37,
   "metadata": {
    "colab": {
     "base_uri": "https://localhost:8080/",
     "height": 367
    },
    "id": "PvhkMr4ezMX_",
    "outputId": "5112531f-b58d-46a0-d2e3-17b7c10ebcfc",
    "scrolled": false
   },
   "outputs": [
    {
     "data": {
      "text/plain": [
       "[Text(0.5, 1.0, 'Smoker vs Region')]"
      ]
     },
     "execution_count": 37,
     "metadata": {
      "tags": []
     },
     "output_type": "execute_result"
    },
    {
     "data": {
      "image/png": "[encoded data removed]",
      "text/plain": [
       "<Figure size 936x360 with 1 Axes>"
      ]
     },
     "metadata": {
      "needs_background": "light",
      "tags": []
     },
     "output_type": "display_data"
    }
   ],
   "source": [
    "#region vs smoker\n",
    "plt.figure(figsize=(13,5))\n",
    "ax=sns.countplot(x='region',hue='smoker',data=df)\n",
    "bar_perc(ax,df['smoker'])\n",
    "ax.set(title=\"Smoker vs Region\")"
   ]
  },
  {
   "cell_type": "markdown",
   "metadata": {
    "id": "t9fs9vtXEwV3"
   },
   "source": [
    "<b>Nhận xét:</b> \n",
    "- Tỉ lệ giữ người không hút thuốc giữa các vùng khá đồng đều.\n",
    "- Vùng Đông Nam có lượng người hút thuốc đông nhất."
   ]
  },
  {
   "cell_type": "markdown",
   "metadata": {
    "id": "1JtRM1T-zMYE"
   },
   "source": [
    "### 3. Xét các điểm dữ liệu nhiễu"
   ]
  },
  {
   "cell_type": "code",
   "execution_count": 38,
   "metadata": {
    "colab": {
     "base_uri": "https://localhost:8080/",
     "height": 717
    },
    "id": "JbTaRg5LzMYE",
    "outputId": "1e1092c6-528f-4eee-c09f-6ca74f1436e7"
   },
   "outputs": [
    {
     "data": {
      "text/plain": [
       "<matplotlib.axes._subplots.AxesSubplot at 0x7fb3ae572450>"
      ]
     },
     "execution_count": 38,
     "metadata": {
      "tags": []
     },
     "output_type": "execute_result"
    },
    {
     "data": {
      "image/png": "[encoded data removed]",
      "text/plain": [
       "<Figure size 1080x864 with 1 Axes>"
      ]
     },
     "metadata": {
      "needs_background": "light",
      "tags": []
     },
     "output_type": "display_data"
    }
   ],
   "source": [
    "temp_df = df.drop(\"charges\", axis=1)\n",
    "temp_df.boxplot(figsize=(15, 12))"
   ]
  },
  {
   "cell_type": "markdown",
   "metadata": {
    "id": "DgKvLkoFzMYE"
   },
   "source": [
    "Ở cột `bmi` có giá trị nhiễu"
   ]
  },
  {
   "cell_type": "code",
   "execution_count": 39,
   "metadata": {
    "colab": {
     "base_uri": "https://localhost:8080/"
    },
    "id": "W1mKMlDXzMYE",
    "outputId": "9b738322-93d3-4dc6-87f9-f6bb8808022c"
   },
   "outputs": [
    {
     "data": {
      "text/plain": [
       "47.31500000000001"
      ]
     },
     "execution_count": 39,
     "metadata": {
      "tags": []
     },
     "output_type": "execute_result"
    }
   ],
   "source": [
    "q1,q2,q3 = temp_df['bmi'].quantile([0.25,0.5,0.75])\n",
    "IQR = q3 - q1\n",
    "upper_limit = q3 + 1.5*IQR\n",
    "upper_limit"
   ]
  },
  {
   "cell_type": "markdown",
   "metadata": {
    "id": "ZhABZWulzMYF"
   },
   "source": [
    "Nhận xét: Ở cột `bmi` những giá trị lớn hơn 47.351 là dữ liệu nhiễu. Ta cần tiền xử lý."
   ]
  },
  {
   "cell_type": "markdown",
   "metadata": {
    "id": "bdcC1dOqzMYF"
   },
   "source": [
    "---"
   ]
  },
  {
   "cell_type": "markdown",
   "metadata": {
    "id": "DMLcDGVMzMYF"
   },
   "source": [
    "# IV. Tiền xử lý dữ liệu"
   ]
  },
  {
   "cell_type": "code",
   "execution_count": 40,
   "metadata": {
    "id": "ke6X9dUnzMYF"
   },
   "outputs": [],
   "source": [
    "y_sr = df_train[\"charges\"] # sr là viết tắt của series\n",
    "X_df = df_train.drop(\"charges\", axis=1)"
   ]
  },
  {
   "cell_type": "code",
   "execution_count": 41,
   "metadata": {
    "colab": {
     "base_uri": "https://localhost:8080/",
     "height": 402
    },
    "id": "O9j8PKYCEwV8",
    "outputId": "f026f73c-d9bb-48c6-b536-46959dd40119"
   },
   "outputs": [
    {
     "data": {
      "text/html": [
       "<div>\n",
       "<style scoped>\n",
       "    .dataframe tbody tr th:only-of-type {\n",
       "        vertical-align: middle;\n",
       "    }\n",
       "\n",
       "    .dataframe tbody tr th {\n",
       "        vertical-align: top;\n",
       "    }\n",
       "\n",
       "    .dataframe thead th {\n",
       "        text-align: right;\n",
       "    }\n",
       "</style>\n",
       "<table border=\"1\" class=\"dataframe\">\n",
       "  <thead>\n",
       "    <tr style=\"text-align: right;\">\n",
       "      <th></th>\n",
       "      <th>age</th>\n",
       "      <th>sex</th>\n",
       "      <th>bmi</th>\n",
       "      <th>children</th>\n",
       "      <th>smoker</th>\n",
       "      <th>region</th>\n",
       "    </tr>\n",
       "  </thead>\n",
       "  <tbody>\n",
       "    <tr>\n",
       "      <th>0</th>\n",
       "      <td>24</td>\n",
       "      <td>male</td>\n",
       "      <td>23.655</td>\n",
       "      <td>0</td>\n",
       "      <td>no</td>\n",
       "      <td>northwest</td>\n",
       "    </tr>\n",
       "    <tr>\n",
       "      <th>1</th>\n",
       "      <td>28</td>\n",
       "      <td>female</td>\n",
       "      <td>26.510</td>\n",
       "      <td>2</td>\n",
       "      <td>no</td>\n",
       "      <td>southeast</td>\n",
       "    </tr>\n",
       "    <tr>\n",
       "      <th>2</th>\n",
       "      <td>51</td>\n",
       "      <td>male</td>\n",
       "      <td>39.700</td>\n",
       "      <td>1</td>\n",
       "      <td>no</td>\n",
       "      <td>southwest</td>\n",
       "    </tr>\n",
       "    <tr>\n",
       "      <th>3</th>\n",
       "      <td>47</td>\n",
       "      <td>male</td>\n",
       "      <td>36.080</td>\n",
       "      <td>1</td>\n",
       "      <td>yes</td>\n",
       "      <td>southeast</td>\n",
       "    </tr>\n",
       "    <tr>\n",
       "      <th>4</th>\n",
       "      <td>46</td>\n",
       "      <td>female</td>\n",
       "      <td>28.900</td>\n",
       "      <td>2</td>\n",
       "      <td>no</td>\n",
       "      <td>southwest</td>\n",
       "    </tr>\n",
       "    <tr>\n",
       "      <th>...</th>\n",
       "      <td>...</td>\n",
       "      <td>...</td>\n",
       "      <td>...</td>\n",
       "      <td>...</td>\n",
       "      <td>...</td>\n",
       "      <td>...</td>\n",
       "    </tr>\n",
       "    <tr>\n",
       "      <th>998</th>\n",
       "      <td>18</td>\n",
       "      <td>female</td>\n",
       "      <td>31.350</td>\n",
       "      <td>4</td>\n",
       "      <td>no</td>\n",
       "      <td>northeast</td>\n",
       "    </tr>\n",
       "    <tr>\n",
       "      <th>999</th>\n",
       "      <td>39</td>\n",
       "      <td>female</td>\n",
       "      <td>23.870</td>\n",
       "      <td>5</td>\n",
       "      <td>no</td>\n",
       "      <td>southeast</td>\n",
       "    </tr>\n",
       "    <tr>\n",
       "      <th>1000</th>\n",
       "      <td>58</td>\n",
       "      <td>male</td>\n",
       "      <td>25.175</td>\n",
       "      <td>0</td>\n",
       "      <td>no</td>\n",
       "      <td>northeast</td>\n",
       "    </tr>\n",
       "    <tr>\n",
       "      <th>1001</th>\n",
       "      <td>37</td>\n",
       "      <td>female</td>\n",
       "      <td>47.600</td>\n",
       "      <td>2</td>\n",
       "      <td>yes</td>\n",
       "      <td>southwest</td>\n",
       "    </tr>\n",
       "    <tr>\n",
       "      <th>1002</th>\n",
       "      <td>55</td>\n",
       "      <td>male</td>\n",
       "      <td>29.900</td>\n",
       "      <td>0</td>\n",
       "      <td>no</td>\n",
       "      <td>southwest</td>\n",
       "    </tr>\n",
       "  </tbody>\n",
       "</table>\n",
       "<p>1003 rows × 6 columns</p>\n",
       "</div>"
      ],
      "text/plain": [
       "      age     sex     bmi  children smoker     region\n",
       "0      24    male  23.655         0     no  northwest\n",
       "1      28  female  26.510         2     no  southeast\n",
       "2      51    male  39.700         1     no  southwest\n",
       "3      47    male  36.080         1    yes  southeast\n",
       "4      46  female  28.900         2     no  southwest\n",
       "...   ...     ...     ...       ...    ...        ...\n",
       "998    18  female  31.350         4     no  northeast\n",
       "999    39  female  23.870         5     no  southeast\n",
       "1000   58    male  25.175         0     no  northeast\n",
       "1001   37  female  47.600         2    yes  southwest\n",
       "1002   55    male  29.900         0     no  southwest\n",
       "\n",
       "[1003 rows x 6 columns]"
      ]
     },
     "execution_count": 41,
     "metadata": {
      "tags": []
     },
     "output_type": "execute_result"
    }
   ],
   "source": [
    "X_df"
   ]
  },
  {
   "cell_type": "code",
   "execution_count": 42,
   "metadata": {
    "colab": {
     "base_uri": "https://localhost:8080/"
    },
    "id": "aeFryY2iEwV9",
    "outputId": "30527e87-64d9-4f76-e8a3-8d147a21f1b8",
    "scrolled": true
   },
   "outputs": [
    {
     "data": {
      "text/plain": [
       "0        2352.96845\n",
       "1        4340.44090\n",
       "2        9391.34600\n",
       "3       42211.13820\n",
       "4        8823.27900\n",
       "           ...     \n",
       "998      4561.18850\n",
       "999      8582.30230\n",
       "1000    11931.12525\n",
       "1001    46113.51100\n",
       "1002    10214.63600\n",
       "Name: charges, Length: 1003, dtype: float64"
      ]
     },
     "execution_count": 42,
     "metadata": {
      "tags": []
     },
     "output_type": "execute_result"
    }
   ],
   "source": [
    "y_sr"
   ]
  },
  {
   "cell_type": "markdown",
   "metadata": {
    "id": "LDFc39FDEwV-"
   },
   "source": [
    "- Kiểm định mối quan hệ giữa các cột trong dữ liệu bằng thống kê."
   ]
  },
  {
   "cell_type": "markdown",
   "metadata": {
    "id": "eHaoGbOoEwV_"
   },
   "source": [
    "Để có thể kiểm định bằng thống kê, ta phải chuẩn hóa các cột `categorcial` thành `numerical` bằng phương pháp OneHotEncoder."
   ]
  },
  {
   "cell_type": "code",
   "execution_count": 43,
   "metadata": {
    "colab": {
     "base_uri": "https://localhost:8080/",
     "height": 195
    },
    "id": "NFwd4nvKEwV_",
    "outputId": "6ecfc677-177d-4671-88bb-7e68d50e572f"
   },
   "outputs": [
    {
     "data": {
      "text/html": [
       "<div>\n",
       "<style scoped>\n",
       "    .dataframe tbody tr th:only-of-type {\n",
       "        vertical-align: middle;\n",
       "    }\n",
       "\n",
       "    .dataframe tbody tr th {\n",
       "        vertical-align: top;\n",
       "    }\n",
       "\n",
       "    .dataframe thead th {\n",
       "        text-align: right;\n",
       "    }\n",
       "</style>\n",
       "<table border=\"1\" class=\"dataframe\">\n",
       "  <thead>\n",
       "    <tr style=\"text-align: right;\">\n",
       "      <th></th>\n",
       "      <th>age</th>\n",
       "      <th>bmi</th>\n",
       "      <th>children</th>\n",
       "      <th>charges</th>\n",
       "      <th>smoker_no</th>\n",
       "      <th>smoker_yes</th>\n",
       "      <th>sex_female</th>\n",
       "      <th>sex_male</th>\n",
       "      <th>region_northeast</th>\n",
       "      <th>region_northwest</th>\n",
       "      <th>region_southeast</th>\n",
       "      <th>region_southwest</th>\n",
       "    </tr>\n",
       "  </thead>\n",
       "  <tbody>\n",
       "    <tr>\n",
       "      <th>0</th>\n",
       "      <td>24</td>\n",
       "      <td>23.655</td>\n",
       "      <td>0</td>\n",
       "      <td>2352.96845</td>\n",
       "      <td>1</td>\n",
       "      <td>0</td>\n",
       "      <td>0</td>\n",
       "      <td>1</td>\n",
       "      <td>0</td>\n",
       "      <td>1</td>\n",
       "      <td>0</td>\n",
       "      <td>0</td>\n",
       "    </tr>\n",
       "    <tr>\n",
       "      <th>1</th>\n",
       "      <td>28</td>\n",
       "      <td>26.510</td>\n",
       "      <td>2</td>\n",
       "      <td>4340.44090</td>\n",
       "      <td>1</td>\n",
       "      <td>0</td>\n",
       "      <td>1</td>\n",
       "      <td>0</td>\n",
       "      <td>0</td>\n",
       "      <td>0</td>\n",
       "      <td>1</td>\n",
       "      <td>0</td>\n",
       "    </tr>\n",
       "    <tr>\n",
       "      <th>2</th>\n",
       "      <td>51</td>\n",
       "      <td>39.700</td>\n",
       "      <td>1</td>\n",
       "      <td>9391.34600</td>\n",
       "      <td>1</td>\n",
       "      <td>0</td>\n",
       "      <td>0</td>\n",
       "      <td>1</td>\n",
       "      <td>0</td>\n",
       "      <td>0</td>\n",
       "      <td>0</td>\n",
       "      <td>1</td>\n",
       "    </tr>\n",
       "    <tr>\n",
       "      <th>3</th>\n",
       "      <td>47</td>\n",
       "      <td>36.080</td>\n",
       "      <td>1</td>\n",
       "      <td>42211.13820</td>\n",
       "      <td>0</td>\n",
       "      <td>1</td>\n",
       "      <td>0</td>\n",
       "      <td>1</td>\n",
       "      <td>0</td>\n",
       "      <td>0</td>\n",
       "      <td>1</td>\n",
       "      <td>0</td>\n",
       "    </tr>\n",
       "    <tr>\n",
       "      <th>4</th>\n",
       "      <td>46</td>\n",
       "      <td>28.900</td>\n",
       "      <td>2</td>\n",
       "      <td>8823.27900</td>\n",
       "      <td>1</td>\n",
       "      <td>0</td>\n",
       "      <td>1</td>\n",
       "      <td>0</td>\n",
       "      <td>0</td>\n",
       "      <td>0</td>\n",
       "      <td>0</td>\n",
       "      <td>1</td>\n",
       "    </tr>\n",
       "  </tbody>\n",
       "</table>\n",
       "</div>"
      ],
      "text/plain": [
       "   age     bmi  children  ...  region_northwest  region_southeast  region_southwest\n",
       "0   24  23.655         0  ...                 1                 0                 0\n",
       "1   28  26.510         2  ...                 0                 1                 0\n",
       "2   51  39.700         1  ...                 0                 0                 1\n",
       "3   47  36.080         1  ...                 0                 1                 0\n",
       "4   46  28.900         2  ...                 0                 0                 1\n",
       "\n",
       "[5 rows x 12 columns]"
      ]
     },
     "execution_count": 43,
     "metadata": {
      "tags": []
     },
     "output_type": "execute_result"
    }
   ],
   "source": [
    "new_df = df.copy()\n",
    "new_df = pd.get_dummies(new_df, columns=[\"smoker\", \"sex\",\"region\"])\n",
    "new_df.head()"
   ]
  },
  {
   "cell_type": "code",
   "execution_count": 44,
   "metadata": {
    "id": "-6JC1mc3EwWA"
   },
   "outputs": [],
   "source": [
    "y = new_df[\"charges\"]\n",
    "x = new_df.drop(\"charges\", axis=1)"
   ]
  },
  {
   "cell_type": "code",
   "execution_count": 45,
   "metadata": {
    "colab": {
     "base_uri": "https://localhost:8080/"
    },
    "id": "I51Kh2IrEwWB",
    "outputId": "0ee297b6-10d1-4024-c2ca-67718eae3e8c"
   },
   "outputs": [
    {
     "name": "stdout",
     "output_type": "stream",
     "text": [
      "                            OLS Regression Results                            \n",
      "==============================================================================\n",
      "Dep. Variable:                charges   R-squared:                       0.751\n",
      "Model:                            OLS   Adj. R-squared:                  0.749\n",
      "Method:                 Least Squares   F-statistic:                     500.0\n",
      "Date:                Fri, 14 May 2021   Prob (F-statistic):               0.00\n",
      "Time:                        13:45:51   Log-Likelihood:                -13538.\n",
      "No. Observations:                1337   AIC:                         2.709e+04\n",
      "Df Residuals:                    1328   BIC:                         2.714e+04\n",
      "Df Model:                           8                                         \n",
      "Covariance Type:            nonrobust                                         \n",
      "====================================================================================\n",
      "                       coef    std err          t      P>|t|      [0.025      0.975]\n",
      "------------------------------------------------------------------------------------\n",
      "const             -295.0121    430.721     -0.685      0.494   -1139.980     549.956\n",
      "age                256.7646     11.912     21.555      0.000     233.396     280.133\n",
      "bmi                339.2504     28.611     11.857      0.000     283.122     395.379\n",
      "children           474.8205    137.897      3.443      0.001     204.301     745.340\n",
      "smoker_no        -1.207e+04    282.517    -42.727      0.000   -1.26e+04   -1.15e+04\n",
      "smoker_yes        1.178e+04    313.644     37.546      0.000    1.12e+04    1.24e+04\n",
      "sex_female         -82.7653    269.326     -0.307      0.759    -611.116     445.585\n",
      "sex_male          -212.2468    275.197     -0.771      0.441    -752.115     327.622\n",
      "region_northeast   512.3904    300.468      1.705      0.088     -77.053    1101.834\n",
      "region_northwest   163.1638    301.884      0.540      0.589    -429.058     755.386\n",
      "region_southeast  -522.8752    330.901     -1.580      0.114   -1172.020     126.270\n",
      "region_southwest  -447.6910    311.058     -1.439      0.150   -1057.909     162.527\n",
      "==============================================================================\n",
      "Omnibus:                      299.816   Durbin-Watson:                   2.107\n",
      "Prob(Omnibus):                  0.000   Jarque-Bera (JB):              716.552\n",
      "Skew:                           1.211   Prob(JB):                    2.53e-156\n",
      "Kurtosis:                       5.646   Cond. No.                     5.95e+17\n",
      "==============================================================================\n",
      "\n",
      "Warnings:\n",
      "[1] Standard Errors assume that the covariance matrix of the errors is correctly specified.\n",
      "[2] The smallest eigenvalue is 9.94e-30. This might indicate that there are\n",
      "strong multicollinearity problems or that the design matrix is singular.\n"
     ]
    }
   ],
   "source": [
    "results = sm.OLS(y, sm.add_constant(x)).fit()\n",
    "print(results.summary())"
   ]
  },
  {
   "cell_type": "markdown",
   "metadata": {
    "id": "fR3HoJoIEwWC"
   },
   "source": [
    "*Với mức ý nghĩa là 0.05*, ta có:\n",
    "- Ở phần sex, region có p-value > 0.05, nghĩa là sex và region không có ảnh hưởng đến chi phí y tế. Vì vậy, ta có thể loại bỏ 2 cột này.\n",
    "- Ở phần age, bmi, smoker, children có p-value < 0.05, nghĩa là có ảnh hưởng đến chi phí y tế. Vì vậy ta giữ nguyên 4 cột này."
   ]
  },
  {
   "cell_type": "markdown",
   "metadata": {
    "id": "1Hn6k5o_zMYF"
   },
   "source": [
    "- Xóa bỏ cột `sex` và `region`."
   ]
  },
  {
   "cell_type": "code",
   "execution_count": 46,
   "metadata": {
    "colab": {
     "base_uri": "https://localhost:8080/",
     "height": 402
    },
    "id": "f51nJLcJzMYF",
    "outputId": "36fd8c08-b84a-4ca5-b61d-d8f2db12f792"
   },
   "outputs": [
    {
     "data": {
      "text/html": [
       "<div>\n",
       "<style scoped>\n",
       "    .dataframe tbody tr th:only-of-type {\n",
       "        vertical-align: middle;\n",
       "    }\n",
       "\n",
       "    .dataframe tbody tr th {\n",
       "        vertical-align: top;\n",
       "    }\n",
       "\n",
       "    .dataframe thead th {\n",
       "        text-align: right;\n",
       "    }\n",
       "</style>\n",
       "<table border=\"1\" class=\"dataframe\">\n",
       "  <thead>\n",
       "    <tr style=\"text-align: right;\">\n",
       "      <th></th>\n",
       "      <th>age</th>\n",
       "      <th>bmi</th>\n",
       "      <th>children</th>\n",
       "      <th>smoker</th>\n",
       "    </tr>\n",
       "  </thead>\n",
       "  <tbody>\n",
       "    <tr>\n",
       "      <th>0</th>\n",
       "      <td>24</td>\n",
       "      <td>23.655</td>\n",
       "      <td>0</td>\n",
       "      <td>no</td>\n",
       "    </tr>\n",
       "    <tr>\n",
       "      <th>1</th>\n",
       "      <td>28</td>\n",
       "      <td>26.510</td>\n",
       "      <td>2</td>\n",
       "      <td>no</td>\n",
       "    </tr>\n",
       "    <tr>\n",
       "      <th>2</th>\n",
       "      <td>51</td>\n",
       "      <td>39.700</td>\n",
       "      <td>1</td>\n",
       "      <td>no</td>\n",
       "    </tr>\n",
       "    <tr>\n",
       "      <th>3</th>\n",
       "      <td>47</td>\n",
       "      <td>36.080</td>\n",
       "      <td>1</td>\n",
       "      <td>yes</td>\n",
       "    </tr>\n",
       "    <tr>\n",
       "      <th>4</th>\n",
       "      <td>46</td>\n",
       "      <td>28.900</td>\n",
       "      <td>2</td>\n",
       "      <td>no</td>\n",
       "    </tr>\n",
       "    <tr>\n",
       "      <th>...</th>\n",
       "      <td>...</td>\n",
       "      <td>...</td>\n",
       "      <td>...</td>\n",
       "      <td>...</td>\n",
       "    </tr>\n",
       "    <tr>\n",
       "      <th>998</th>\n",
       "      <td>18</td>\n",
       "      <td>31.350</td>\n",
       "      <td>4</td>\n",
       "      <td>no</td>\n",
       "    </tr>\n",
       "    <tr>\n",
       "      <th>999</th>\n",
       "      <td>39</td>\n",
       "      <td>23.870</td>\n",
       "      <td>5</td>\n",
       "      <td>no</td>\n",
       "    </tr>\n",
       "    <tr>\n",
       "      <th>1000</th>\n",
       "      <td>58</td>\n",
       "      <td>25.175</td>\n",
       "      <td>0</td>\n",
       "      <td>no</td>\n",
       "    </tr>\n",
       "    <tr>\n",
       "      <th>1001</th>\n",
       "      <td>37</td>\n",
       "      <td>47.600</td>\n",
       "      <td>2</td>\n",
       "      <td>yes</td>\n",
       "    </tr>\n",
       "    <tr>\n",
       "      <th>1002</th>\n",
       "      <td>55</td>\n",
       "      <td>29.900</td>\n",
       "      <td>0</td>\n",
       "      <td>no</td>\n",
       "    </tr>\n",
       "  </tbody>\n",
       "</table>\n",
       "<p>1003 rows × 4 columns</p>\n",
       "</div>"
      ],
      "text/plain": [
       "      age     bmi  children smoker\n",
       "0      24  23.655         0     no\n",
       "1      28  26.510         2     no\n",
       "2      51  39.700         1     no\n",
       "3      47  36.080         1    yes\n",
       "4      46  28.900         2     no\n",
       "...   ...     ...       ...    ...\n",
       "998    18  31.350         4     no\n",
       "999    39  23.870         5     no\n",
       "1000   58  25.175         0     no\n",
       "1001   37  47.600         2    yes\n",
       "1002   55  29.900         0     no\n",
       "\n",
       "[1003 rows x 4 columns]"
      ]
     },
     "execution_count": 46,
     "metadata": {
      "tags": []
     },
     "output_type": "execute_result"
    }
   ],
   "source": [
    "X_df = X_df.drop([\"sex\",\"region\"],axis=1)\n",
    "X_df"
   ]
  },
  {
   "cell_type": "markdown",
   "metadata": {
    "id": "x-GYNU6uzMYG"
   },
   "source": [
    "- Thay thế những giá trị nhiễu (lớn hơn upper_limit) ở cột `bmi` bằng giá trị mean của cột."
   ]
  },
  {
   "cell_type": "code",
   "execution_count": 47,
   "metadata": {
    "id": "w1ZyxpafzMYG"
   },
   "outputs": [],
   "source": [
    "X_df[X_df[\"bmi\"]>upper_limit][\"bmi\"] = X_df[\"bmi\"].mean()"
   ]
  },
  {
   "cell_type": "markdown",
   "metadata": {
    "id": "NO6tMqi4EwWE"
   },
   "source": [
    "- Tạo pipeline cho quá trình tiền xử lý dữ liệu"
   ]
  },
  {
   "cell_type": "code",
   "execution_count": 48,
   "metadata": {
    "id": "baoNJxLKzMYG"
   },
   "outputs": [],
   "source": [
    "X_df[\"smoker\"] = X_df[\"smoker\"].astype(str)\n",
    "\n",
    "one_hot_encoder = OneHotEncoder()\n",
    "standar_scaler = StandardScaler()\n",
    "cols_numerical = [\"age\", \"bmi\", \"children\"]\n",
    "cols_categorical = [\"smoker\"]\n",
    "\n",
    "column_trans =  ColumnTransformer([(\"cols_numerical\", standar_scaler, cols_numerical),\n",
    "                                   (\"cols_categorical\", one_hot_encoder, cols_categorical)])"
   ]
  },
  {
   "cell_type": "markdown",
   "metadata": {
    "id": "iyRO9g3hzMYH"
   },
   "source": [
    "---"
   ]
  },
  {
   "cell_type": "markdown",
   "metadata": {
    "id": "eg0ociLZzMYH"
   },
   "source": [
    "# V. Mô hình hóa dữ liệu"
   ]
  },
  {
   "cell_type": "markdown",
   "metadata": {
    "id": "EA2JgIsKzMYH"
   },
   "source": [
    "### 1. Linear Regression"
   ]
  },
  {
   "cell_type": "markdown",
   "metadata": {
    "id": "998_OOceEwWH"
   },
   "source": [
    "a) Xây dựng model"
   ]
  },
  {
   "cell_type": "code",
   "execution_count": 49,
   "metadata": {
    "id": "OUZNKTtiSl0f"
   },
   "outputs": [],
   "source": [
    "linear_regression = LinearRegression()\n",
    "linear_pipeline = Pipeline([('column_trans', column_trans),\n",
    "                            ('linear_regression', linear_regression)])"
   ]
  },
  {
   "cell_type": "markdown",
   "metadata": {
    "id": "0lD0RGrwEwWI"
   },
   "source": [
    "b) Huấn luyện model"
   ]
  },
  {
   "cell_type": "code",
   "execution_count": 50,
   "metadata": {
    "colab": {
     "base_uri": "https://localhost:8080/"
    },
    "id": "4KbXfPNIzMYH",
    "outputId": "ac88db49-b60a-43ea-b269-b351a3b81ffd",
    "scrolled": true
   },
   "outputs": [
    {
     "data": {
      "text/plain": [
       "Pipeline(memory=None,\n",
       "         steps=[('column_trans',\n",
       "                 ColumnTransformer(n_jobs=None, remainder='drop',\n",
       "                                   sparse_threshold=0.3,\n",
       "                                   transformer_weights=None,\n",
       "                                   transformers=[('cols_numerical',\n",
       "                                                  StandardScaler(copy=True,\n",
       "                                                                 with_mean=True,\n",
       "                                                                 with_std=True),\n",
       "                                                  ['age', 'bmi', 'children']),\n",
       "                                                 ('cols_categorical',\n",
       "                                                  OneHotEncoder(categories='auto',\n",
       "                                                                drop=None,\n",
       "                                                                dtype=<class 'numpy.float64'>,\n",
       "                                                                handle_unknown='error',\n",
       "                                                                sparse=True),\n",
       "                                                  ['smoker'])],\n",
       "                                   verbose=False)),\n",
       "                ('linear_regression',\n",
       "                 LinearRegression(copy_X=True, fit_intercept=True, n_jobs=None,\n",
       "                                  normalize=False))],\n",
       "         verbose=False)"
      ]
     },
     "execution_count": 50,
     "metadata": {
      "tags": []
     },
     "output_type": "execute_result"
    }
   ],
   "source": [
    "linear_pipeline.fit(X_df, y_sr)"
   ]
  },
  {
   "cell_type": "markdown",
   "metadata": {
    "id": "UKQOXQoTEwWJ"
   },
   "source": [
    "$$y = w_0 + w_1*x_1 + w_2*x_2+w_3*x_3+w_4*x_4 + w_5*x_5$$"
   ]
  },
  {
   "cell_type": "markdown",
   "metadata": {
    "id": "rFG5KsXgEwWJ"
   },
   "source": [
    "Hệ số chặn $w_0$"
   ]
  },
  {
   "cell_type": "code",
   "execution_count": 51,
   "metadata": {
    "colab": {
     "base_uri": "https://localhost:8080/"
    },
    "id": "uCkdrTfhzMYH",
    "outputId": "773f38f8-0f69-486d-8a0b-5c1c5322afc8"
   },
   "outputs": [
    {
     "data": {
      "text/plain": [
       "20230.493264917626"
      ]
     },
     "execution_count": 51,
     "metadata": {
      "tags": []
     },
     "output_type": "execute_result"
    }
   ],
   "source": [
    "linear_pipeline.named_steps['linear_regression'].intercept_"
   ]
  },
  {
   "cell_type": "markdown",
   "metadata": {
    "id": "ne7Sr2iaEwWL"
   },
   "source": [
    "Hệ số $w_i$ với $i$ từ 1-4"
   ]
  },
  {
   "cell_type": "code",
   "execution_count": 52,
   "metadata": {
    "colab": {
     "base_uri": "https://localhost:8080/"
    },
    "id": "UC-hETpKzMYH",
    "outputId": "af176380-6489-4d90-a755-be838076040d"
   },
   "outputs": [
    {
     "data": {
      "text/plain": [
       "array([  3648.466473  ,   1968.78192674,    524.0369871 , -11816.31999987,\n",
       "        11816.31999987])"
      ]
     },
     "execution_count": 52,
     "metadata": {
      "tags": []
     },
     "output_type": "execute_result"
    }
   ],
   "source": [
    "linear_pipeline.named_steps['linear_regression'].coef_"
   ]
  },
  {
   "cell_type": "markdown",
   "metadata": {
    "id": "H40oWJAqEwWM"
   },
   "source": [
    "c) Độ chính xác trên tập huấn luyện"
   ]
  },
  {
   "cell_type": "code",
   "execution_count": 53,
   "metadata": {
    "id": "XhACePJLzMYI"
   },
   "outputs": [],
   "source": [
    "def compute_mse(y, preds):\n",
    "        return ((y - preds) ** 2).mean()\n",
    "def compute_rr(y, preds, baseline_preds):\n",
    "    return 1 - compute_mse(y, preds) / compute_mse(y, baseline_preds)"
   ]
  },
  {
   "cell_type": "code",
   "execution_count": 54,
   "metadata": {
    "colab": {
     "base_uri": "https://localhost:8080/"
    },
    "id": "v1vE6hTaEwWN",
    "outputId": "b5ff3907-6699-4f7c-cb2c-a5c3718e2cb2"
   },
   "outputs": [
    {
     "name": "stdout",
     "output_type": "stream",
     "text": [
      "Score: 0.7441585658576718\n"
     ]
    }
   ],
   "source": [
    "baseline_preds = y_sr.mean()\n",
    "print(f\"Score: {compute_rr(y_sr, linear_pipeline.predict(X_df), baseline_preds)}\")"
   ]
  },
  {
   "cell_type": "markdown",
   "metadata": {
    "id": "KjDBdJ7KzMYI"
   },
   "source": [
    "### 2. Neural Network"
   ]
  },
  {
   "cell_type": "markdown",
   "metadata": {
    "id": "36Du0NFmEwWO"
   },
   "source": [
    "a) Xây dựng model với từng siêu tham số"
   ]
  },
  {
   "cell_type": "code",
   "execution_count": 55,
   "metadata": {
    "id": "cCzIoX8azMYI"
   },
   "outputs": [],
   "source": [
    "mlp_regr = MLPRegressor(random_state=1, max_iter=2500, solver = \"lbfgs\")\n",
    "param_grid_mlp = { \n",
    "    \"alpha\": [0.05, 0.1, 1],\n",
    "    'hidden_layer_sizes': [(80,),(100,),(100,2)]\n",
    "}\n",
    "\n",
    "CV_mlp = GridSearchCV(estimator=mlp_regr, param_grid=param_grid_mlp)\n",
    "CV_mlp_pipeline=Pipeline([('column_trans',column_trans),\n",
    "                        ('MLPRegressor',CV_mlp)])"
   ]
  },
  {
   "cell_type": "markdown",
   "metadata": {
    "id": "73l2LDhAEwWP"
   },
   "source": [
    "b) Huấn luyện model với siêu tham số cho kết quả tốt nhất."
   ]
  },
  {
   "cell_type": "code",
   "execution_count": 56,
   "metadata": {
    "colab": {
     "base_uri": "https://localhost:8080/"
    },
    "id": "lBunxqdnEwWQ",
    "outputId": "47ca95ab-25b8-4345-a85e-75b1e5012438"
   },
   "outputs": [
    {
     "data": {
      "text/plain": [
       "Pipeline(memory=None,\n",
       "         steps=[('column_trans',\n",
       "                 ColumnTransformer(n_jobs=None, remainder='drop',\n",
       "                                   sparse_threshold=0.3,\n",
       "                                   transformer_weights=None,\n",
       "                                   transformers=[('cols_numerical',\n",
       "                                                  StandardScaler(copy=True,\n",
       "                                                                 with_mean=True,\n",
       "                                                                 with_std=True),\n",
       "                                                  ['age', 'bmi', 'children']),\n",
       "                                                 ('cols_categorical',\n",
       "                                                  OneHotEncoder(categories='auto',\n",
       "                                                                drop=None,\n",
       "                                                                dtype=<class 'numpy.float64'>,\n",
       "                                                                handle_un...\n",
       "                                                     nesterovs_momentum=True,\n",
       "                                                     power_t=0.5,\n",
       "                                                     random_state=1,\n",
       "                                                     shuffle=True,\n",
       "                                                     solver='lbfgs', tol=0.0001,\n",
       "                                                     validation_fraction=0.1,\n",
       "                                                     verbose=False,\n",
       "                                                     warm_start=False),\n",
       "                              iid='deprecated', n_jobs=None,\n",
       "                              param_grid={'alpha': [0.05, 0.1, 1],\n",
       "                                          'hidden_layer_sizes': [(80,), (100,),\n",
       "                                                                 (100, 2)]},\n",
       "                              pre_dispatch='2*n_jobs', refit=True,\n",
       "                              return_train_score=False, scoring=None,\n",
       "                              verbose=0))],\n",
       "         verbose=False)"
      ]
     },
     "execution_count": 56,
     "metadata": {
      "tags": []
     },
     "output_type": "execute_result"
    }
   ],
   "source": [
    "CV_mlp_pipeline.fit(X_df, y_sr)"
   ]
  },
  {
   "cell_type": "markdown",
   "metadata": {
    "id": "H97CGkZcEwWQ"
   },
   "source": [
    "Siêu tham số tốt nhất"
   ]
  },
  {
   "cell_type": "code",
   "execution_count": 57,
   "metadata": {
    "colab": {
     "base_uri": "https://localhost:8080/"
    },
    "id": "5vJJA2FczMYJ",
    "outputId": "07f04332-8d38-474b-bc7a-73f01e5e667e",
    "scrolled": true
   },
   "outputs": [
    {
     "data": {
      "text/plain": [
       "{'alpha': 0.05, 'hidden_layer_sizes': (80,)}"
      ]
     },
     "execution_count": 57,
     "metadata": {
      "tags": []
     },
     "output_type": "execute_result"
    }
   ],
   "source": [
    "CV_mlp.best_params_"
   ]
  },
  {
   "cell_type": "markdown",
   "metadata": {
    "id": "8cnSWF41EwWS"
   },
   "source": [
    "c) Độ chính xác trên tập huấn luyện"
   ]
  },
  {
   "cell_type": "code",
   "execution_count": 58,
   "metadata": {
    "colab": {
     "base_uri": "https://localhost:8080/"
    },
    "id": "rb0jXvR-EwWS",
    "outputId": "ebf6b7a9-6169-4e81-bfe8-7ae066d93a86"
   },
   "outputs": [
    {
     "name": "stdout",
     "output_type": "stream",
     "text": [
      "Score: 0.8891041487308955\n"
     ]
    }
   ],
   "source": [
    "baseline_preds = y_sr.mean()\n",
    "print(f\"Score: {compute_rr(y_sr, CV_mlp_pipeline.predict(X_df), baseline_preds)}\")"
   ]
  },
  {
   "cell_type": "markdown",
   "metadata": {
    "id": "rKgKBR-9zMYJ"
   },
   "source": [
    "### 3. Random Forest Regressor"
   ]
  },
  {
   "cell_type": "markdown",
   "metadata": {
    "id": "MUSOARRFEwWT"
   },
   "source": [
    "a) Xây dựng model với từng siêu tham số"
   ]
  },
  {
   "cell_type": "code",
   "execution_count": 59,
   "metadata": {
    "id": "-Ln9nTMhzMYJ"
   },
   "outputs": [],
   "source": [
    "param_grid_rdd = { \n",
    "    'n_estimators': [200, 500],\n",
    "    'max_depth' : [4,5,6,7,8],\n",
    "}\n",
    "rfr=RandomForestRegressor(random_state=1, n_jobs=-1)\n",
    "\n",
    "CV_rfr = GridSearchCV(estimator=rfr, param_grid=param_grid_rdd)\n",
    "CV_rfr_pipeline=Pipeline([('column_trans',column_trans),\n",
    "                             ('randomforest',CV_rfr)])"
   ]
  },
  {
   "cell_type": "markdown",
   "metadata": {
    "id": "nzfWlkv3EwWV"
   },
   "source": [
    "b) Huấn luyện model với siêu tham số cho kết quả tốt nhất."
   ]
  },
  {
   "cell_type": "code",
   "execution_count": 60,
   "metadata": {
    "colab": {
     "base_uri": "https://localhost:8080/"
    },
    "id": "QrkoudERzMYK",
    "outputId": "5d6d6774-4944-405f-f34c-1e01871e90dd"
   },
   "outputs": [
    {
     "data": {
      "text/plain": [
       "Pipeline(memory=None,\n",
       "         steps=[('column_trans',\n",
       "                 ColumnTransformer(n_jobs=None, remainder='drop',\n",
       "                                   sparse_threshold=0.3,\n",
       "                                   transformer_weights=None,\n",
       "                                   transformers=[('cols_numerical',\n",
       "                                                  StandardScaler(copy=True,\n",
       "                                                                 with_mean=True,\n",
       "                                                                 with_std=True),\n",
       "                                                  ['age', 'bmi', 'children']),\n",
       "                                                 ('cols_categorical',\n",
       "                                                  OneHotEncoder(categories='auto',\n",
       "                                                                drop=None,\n",
       "                                                                dtype=<class 'numpy.float64'>,\n",
       "                                                                handle_un...\n",
       "                                                              min_impurity_split=None,\n",
       "                                                              min_samples_leaf=1,\n",
       "                                                              min_samples_split=2,\n",
       "                                                              min_weight_fraction_leaf=0.0,\n",
       "                                                              n_estimators=100,\n",
       "                                                              n_jobs=-1,\n",
       "                                                              oob_score=False,\n",
       "                                                              random_state=1,\n",
       "                                                              verbose=0,\n",
       "                                                              warm_start=False),\n",
       "                              iid='deprecated', n_jobs=None,\n",
       "                              param_grid={'max_depth': [4, 5, 6, 7, 8],\n",
       "                                          'n_estimators': [200, 500]},\n",
       "                              pre_dispatch='2*n_jobs', refit=True,\n",
       "                              return_train_score=False, scoring=None,\n",
       "                              verbose=0))],\n",
       "         verbose=False)"
      ]
     },
     "execution_count": 60,
     "metadata": {
      "tags": []
     },
     "output_type": "execute_result"
    }
   ],
   "source": [
    "CV_rfr_pipeline.fit(X_df,y_sr)"
   ]
  },
  {
   "cell_type": "markdown",
   "metadata": {
    "id": "Qm-KJkJjEwWX"
   },
   "source": [
    "Siêu tham số tốt nhất"
   ]
  },
  {
   "cell_type": "code",
   "execution_count": 61,
   "metadata": {
    "colab": {
     "base_uri": "https://localhost:8080/"
    },
    "id": "ZFTRbFULEwWY",
    "outputId": "6e6719a2-7681-42a5-b544-1818fe817afe"
   },
   "outputs": [
    {
     "data": {
      "text/plain": [
       "{'max_depth': 4, 'n_estimators': 200}"
      ]
     },
     "execution_count": 61,
     "metadata": {
      "tags": []
     },
     "output_type": "execute_result"
    }
   ],
   "source": [
    "CV_rfr.best_params_"
   ]
  },
  {
   "cell_type": "markdown",
   "metadata": {
    "id": "cM3BNTfsEwWY"
   },
   "source": [
    "c) Độ chính xác trên tập huấn luyện"
   ]
  },
  {
   "cell_type": "code",
   "execution_count": 62,
   "metadata": {
    "colab": {
     "base_uri": "https://localhost:8080/"
    },
    "id": "iefGKxb-zMYK",
    "outputId": "56b2a27d-b227-4960-d0e8-47b8a5a32bc7"
   },
   "outputs": [
    {
     "name": "stdout",
     "output_type": "stream",
     "text": [
      "Score: 0.8756666079774867\n"
     ]
    }
   ],
   "source": [
    "baseline_preds = y_sr.mean()\n",
    "print(f\"Score: {compute_rr(y_sr, CV_rfr_pipeline.predict(X_df), baseline_preds)}\")"
   ]
  },
  {
   "cell_type": "markdown",
   "metadata": {
    "id": "R_Px9LJ-zMYL"
   },
   "source": [
    "---"
   ]
  },
  {
   "cell_type": "markdown",
   "metadata": {
    "id": "-xMkq5UhzMYL"
   },
   "source": [
    "# VI. Kiểm tra mô hình vừa huấn luyện"
   ]
  },
  {
   "cell_type": "code",
   "execution_count": 63,
   "metadata": {
    "id": "-ab14I0AzMYL"
   },
   "outputs": [],
   "source": [
    "path_test = '/content/drive/MyDrive/Data/test.csv'\n",
    "df_test = pd.read_csv(path_test)"
   ]
  },
  {
   "cell_type": "code",
   "execution_count": 64,
   "metadata": {
    "colab": {
     "base_uri": "https://localhost:8080/",
     "height": 195
    },
    "id": "bbnc3k3XzMYL",
    "outputId": "9712e95c-6995-43ba-81ef-0e1358ca8dec",
    "scrolled": true
   },
   "outputs": [
    {
     "data": {
      "text/html": [
       "<div>\n",
       "<style scoped>\n",
       "    .dataframe tbody tr th:only-of-type {\n",
       "        vertical-align: middle;\n",
       "    }\n",
       "\n",
       "    .dataframe tbody tr th {\n",
       "        vertical-align: top;\n",
       "    }\n",
       "\n",
       "    .dataframe thead th {\n",
       "        text-align: right;\n",
       "    }\n",
       "</style>\n",
       "<table border=\"1\" class=\"dataframe\">\n",
       "  <thead>\n",
       "    <tr style=\"text-align: right;\">\n",
       "      <th></th>\n",
       "      <th>age</th>\n",
       "      <th>sex</th>\n",
       "      <th>bmi</th>\n",
       "      <th>children</th>\n",
       "      <th>smoker</th>\n",
       "      <th>region</th>\n",
       "      <th>charges</th>\n",
       "    </tr>\n",
       "  </thead>\n",
       "  <tbody>\n",
       "    <tr>\n",
       "      <th>0</th>\n",
       "      <td>45</td>\n",
       "      <td>female</td>\n",
       "      <td>25.175</td>\n",
       "      <td>2</td>\n",
       "      <td>no</td>\n",
       "      <td>northeast</td>\n",
       "      <td>9095.06825</td>\n",
       "    </tr>\n",
       "    <tr>\n",
       "      <th>1</th>\n",
       "      <td>36</td>\n",
       "      <td>female</td>\n",
       "      <td>30.020</td>\n",
       "      <td>0</td>\n",
       "      <td>no</td>\n",
       "      <td>northwest</td>\n",
       "      <td>5272.17580</td>\n",
       "    </tr>\n",
       "    <tr>\n",
       "      <th>2</th>\n",
       "      <td>64</td>\n",
       "      <td>female</td>\n",
       "      <td>26.885</td>\n",
       "      <td>0</td>\n",
       "      <td>yes</td>\n",
       "      <td>northwest</td>\n",
       "      <td>29330.98315</td>\n",
       "    </tr>\n",
       "    <tr>\n",
       "      <th>3</th>\n",
       "      <td>46</td>\n",
       "      <td>male</td>\n",
       "      <td>25.745</td>\n",
       "      <td>3</td>\n",
       "      <td>no</td>\n",
       "      <td>northwest</td>\n",
       "      <td>9301.89355</td>\n",
       "    </tr>\n",
       "    <tr>\n",
       "      <th>4</th>\n",
       "      <td>19</td>\n",
       "      <td>male</td>\n",
       "      <td>31.920</td>\n",
       "      <td>0</td>\n",
       "      <td>yes</td>\n",
       "      <td>northwest</td>\n",
       "      <td>33750.29180</td>\n",
       "    </tr>\n",
       "  </tbody>\n",
       "</table>\n",
       "</div>"
      ],
      "text/plain": [
       "   age     sex     bmi  children smoker     region      charges\n",
       "0   45  female  25.175         2     no  northeast   9095.06825\n",
       "1   36  female  30.020         0     no  northwest   5272.17580\n",
       "2   64  female  26.885         0    yes  northwest  29330.98315\n",
       "3   46    male  25.745         3     no  northwest   9301.89355\n",
       "4   19    male  31.920         0    yes  northwest  33750.29180"
      ]
     },
     "execution_count": 64,
     "metadata": {
      "tags": []
     },
     "output_type": "execute_result"
    }
   ],
   "source": [
    "df_test.head()"
   ]
  },
  {
   "cell_type": "markdown",
   "metadata": {
    "id": "UCv9sni-EwWb"
   },
   "source": [
    "Xóa cột Sex và Region như phần tập dữ liệu train."
   ]
  },
  {
   "cell_type": "code",
   "execution_count": 65,
   "metadata": {
    "id": "dUEGwMCxzMYL"
   },
   "outputs": [],
   "source": [
    "test_y = df_test[\"charges\"]\n",
    "test_X = df_test.drop(\"charges\", axis=1)\n",
    "test_X = test_X.drop([\"sex\",\"region\"],axis=1)"
   ]
  },
  {
   "cell_type": "code",
   "execution_count": 66,
   "metadata": {
    "id": "fRtLhuXQEwWc"
   },
   "outputs": [],
   "source": [
    "baseline_preds = test_y.mean()"
   ]
  },
  {
   "cell_type": "markdown",
   "metadata": {
    "id": "d_YIiNuczMYL"
   },
   "source": [
    "### 1. Linear Regression"
   ]
  },
  {
   "cell_type": "code",
   "execution_count": 67,
   "metadata": {
    "colab": {
     "base_uri": "https://localhost:8080/"
    },
    "id": "7zAqdwVIzMYL",
    "outputId": "4e3230a4-7926-4599-c118-5362d3419bfc"
   },
   "outputs": [
    {
     "name": "stdout",
     "output_type": "stream",
     "text": [
      "Score: 0.7653688584061046\n"
     ]
    }
   ],
   "source": [
    "print(f\"Score: {compute_rr(test_y, linear_pipeline.predict(test_X), baseline_preds)}\")"
   ]
  },
  {
   "cell_type": "markdown",
   "metadata": {
    "id": "hnQyVlYDzMYM"
   },
   "source": [
    "### 2. Neural network"
   ]
  },
  {
   "cell_type": "code",
   "execution_count": 68,
   "metadata": {
    "colab": {
     "base_uri": "https://localhost:8080/"
    },
    "id": "sUZe0J5vzMYM",
    "outputId": "a689e48a-01d5-4a07-ed67-b342d1681514"
   },
   "outputs": [
    {
     "name": "stdout",
     "output_type": "stream",
     "text": [
      "Score: 0.8608271610360096\n"
     ]
    }
   ],
   "source": [
    "print(f\"Score: {compute_rr(test_y, CV_mlp_pipeline.predict(test_X), baseline_preds)}\")"
   ]
  },
  {
   "cell_type": "markdown",
   "metadata": {
    "id": "0FwC5AwKzMYM"
   },
   "source": [
    "### 3. Random Forest Regression"
   ]
  },
  {
   "cell_type": "code",
   "execution_count": 69,
   "metadata": {
    "colab": {
     "base_uri": "https://localhost:8080/"
    },
    "id": "0Qh9Z8JGzMYM",
    "outputId": "cb6c85f0-fcbe-410e-a16c-dfc67f9921cb",
    "scrolled": true
   },
   "outputs": [
    {
     "name": "stdout",
     "output_type": "stream",
     "text": [
      "Score: 0.8581463981930906\n"
     ]
    }
   ],
   "source": [
    "print(f\"Score: {compute_rr(test_y, CV_rfr_pipeline.predict(test_X), baseline_preds)}\")"
   ]
  }
 ],
 "metadata": {
  "accelerator": "GPU",
  "colab": {
   "collapsed_sections": [
    "2SihZD-GzMX6",
    "oi54KsgQzMX6",
    "ud48-5W-zMX8",
    "lrTip86HzMX9",
    "QIsc4_PvzMX9",
    "Icu6nl9JzMX_",
    "NmA44M4FzMYA",
    "yRJ96FzAzMYC",
    "lCg8pq7kzMYD",
    "1JtRM1T-zMYE",
    "DMLcDGVMzMYF"
   ],
   "name": "ML-Regression.ipynb",
   "provenance": []
  },
  "kernelspec": {
   "display_name": "Python 3",
   "language": "python",
   "name": "python3"
  },
  "language_info": {
   "codemirror_mode": {
    "name": "ipython",
    "version": 3
   },
   "file_extension": ".py",
   "mimetype": "text/x-python",
   "name": "python",
   "nbconvert_exporter": "python",
   "pygments_lexer": "ipython3",
   "version": "3.8.5"
  }
 },
 "nbformat": 4,
 "nbformat_minor": 1
}
